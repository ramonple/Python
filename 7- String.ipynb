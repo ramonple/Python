{
 "cells": [
  {
   "cell_type": "markdown",
   "id": "b2270700",
   "metadata": {},
   "source": [
    "### find"
   ]
  },
  {
   "cell_type": "code",
   "execution_count": 3,
   "id": "da30b7cd",
   "metadata": {
    "scrolled": true
   },
   "outputs": [
    {
     "name": "stdout",
     "output_type": "stream",
     "text": [
      "12\n",
      "23\n",
      "-1\n"
     ]
    }
   ],
   "source": [
    "mystr ='hello world and itcast and itheima and Python'\n",
    "print(mystr.find('and'))\n",
    "print(mystr.find('and',15,35)) # searching start and end point\n",
    "print(mystr.find('xxxx')) # does not exist, -1"
   ]
  },
  {
   "cell_type": "markdown",
   "id": "e2005981",
   "metadata": {},
   "source": [
    "### index"
   ]
  },
  {
   "cell_type": "code",
   "execution_count": 6,
   "id": "31ae9da6",
   "metadata": {},
   "outputs": [
    {
     "name": "stdout",
     "output_type": "stream",
     "text": [
      "12\n",
      "23\n"
     ]
    },
    {
     "ename": "ValueError",
     "evalue": "substring not found",
     "output_type": "error",
     "traceback": [
      "\u001b[0;31m---------------------------------------------------------------------------\u001b[0m",
      "\u001b[0;31mValueError\u001b[0m                                Traceback (most recent call last)",
      "\u001b[0;32m/var/folders/n0/rr0bk9yn2d156tv_qkmj0d_m0000gn/T/ipykernel_58666/4012069756.py\u001b[0m in \u001b[0;36m<module>\u001b[0;34m\u001b[0m\n\u001b[1;32m      2\u001b[0m \u001b[0mprint\u001b[0m\u001b[0;34m(\u001b[0m\u001b[0mmystr\u001b[0m\u001b[0;34m.\u001b[0m\u001b[0mindex\u001b[0m\u001b[0;34m(\u001b[0m\u001b[0;34m'and'\u001b[0m\u001b[0;34m)\u001b[0m\u001b[0;34m)\u001b[0m\u001b[0;34m\u001b[0m\u001b[0;34m\u001b[0m\u001b[0m\n\u001b[1;32m      3\u001b[0m \u001b[0mprint\u001b[0m\u001b[0;34m(\u001b[0m\u001b[0mmystr\u001b[0m\u001b[0;34m.\u001b[0m\u001b[0mindex\u001b[0m\u001b[0;34m(\u001b[0m\u001b[0;34m'and'\u001b[0m\u001b[0;34m,\u001b[0m\u001b[0;36m15\u001b[0m\u001b[0;34m,\u001b[0m\u001b[0;36m35\u001b[0m\u001b[0;34m)\u001b[0m\u001b[0;34m)\u001b[0m\u001b[0;34m\u001b[0m\u001b[0;34m\u001b[0m\u001b[0m\n\u001b[0;32m----> 4\u001b[0;31m \u001b[0mprint\u001b[0m\u001b[0;34m(\u001b[0m\u001b[0mmystr\u001b[0m\u001b[0;34m.\u001b[0m\u001b[0mindex\u001b[0m\u001b[0;34m(\u001b[0m\u001b[0;34m'xxx'\u001b[0m\u001b[0;34m)\u001b[0m\u001b[0;34m)\u001b[0m\u001b[0;34m\u001b[0m\u001b[0;34m\u001b[0m\u001b[0m\n\u001b[0m",
      "\u001b[0;31mValueError\u001b[0m: substring not found"
     ]
    }
   ],
   "source": [
    "mystr ='hello world and itcast and itheima and Python'\n",
    "print(mystr.index('and')) \n",
    "print(mystr.index('and',15,35)) \n",
    "print(mystr.index('xxx')) # does not exist, error message"
   ]
  },
  {
   "cell_type": "markdown",
   "id": "c84a4ecc",
   "metadata": {},
   "source": [
    "### count"
   ]
  },
  {
   "cell_type": "code",
   "execution_count": 8,
   "id": "c32f624a",
   "metadata": {},
   "outputs": [
    {
     "name": "stdout",
     "output_type": "stream",
     "text": [
      "3\n",
      "1\n",
      "0\n"
     ]
    }
   ],
   "source": [
    "print(mystr.count('and'))\n",
    "print(mystr.count('and',15,30))\n",
    "print(mystr.count('xxx')) # does not exist, 0"
   ]
  },
  {
   "cell_type": "markdown",
   "id": "dcfd2c42",
   "metadata": {},
   "source": [
    "### others:\n",
    "rfind, rindex -> search from the right hand side"
   ]
  },
  {
   "cell_type": "markdown",
   "id": "ffaba140",
   "metadata": {},
   "source": [
    "## replace"
   ]
  },
  {
   "cell_type": "code",
   "execution_count": 17,
   "id": "35c5e2b3",
   "metadata": {},
   "outputs": [
    {
     "name": "stdout",
     "output_type": "stream",
     "text": [
      "hello world & itcast & itheima & Python\n",
      "hello world & itcast and itheima and Python\n",
      "-----------------\n",
      "hello world and itcast and itheima and Python\n",
      "hello world & itcast & itheima & Python\n"
     ]
    }
   ],
   "source": [
    "mystr ='hello world and itcast and itheima and Python'\n",
    "print(mystr.replace('and','&'))  # will not change the orginal string, but will output a new string\n",
    "print(mystr.replace('and','&',1)) # replace numbers\n",
    "\n",
    "new_str = mystr.replace('and','&')\n",
    "print('-----------------')\n",
    "print(mystr) # mystr does not change\n",
    "print(new_str)\n",
    "\n",
    "# the string is an unchangable data type"
   ]
  },
  {
   "cell_type": "markdown",
   "id": "3a1c5b49",
   "metadata": {},
   "source": [
    "## split"
   ]
  },
  {
   "cell_type": "code",
   "execution_count": 26,
   "id": "6a523527",
   "metadata": {},
   "outputs": [
    {
     "data": {
      "text/plain": [
       "['hello world ', ' itcast ', ' itheima ', ' Python']"
      ]
     },
     "execution_count": 26,
     "metadata": {},
     "output_type": "execute_result"
    }
   ],
   "source": [
    "mystr ='hello world and itcast and itheima and Python'\n",
    "# mystr.split('and') # 'and' will not appear in the output\n",
    "mystr.split('and',3) # split three times, and we will get four parts"
   ]
  },
  {
   "cell_type": "markdown",
   "id": "42a7ebae",
   "metadata": {},
   "source": [
    "## join"
   ]
  },
  {
   "cell_type": "code",
   "execution_count": 33,
   "id": "68caebff",
   "metadata": {},
   "outputs": [
    {
     "name": "stdout",
     "output_type": "stream",
     "text": [
      "['aa', 'bb', 'cc']\n",
      "aa...bb...cc\n"
     ]
    }
   ],
   "source": [
    "mylist=['aa','bb','cc']\n",
    "print(mylist)\n",
    "new_str = '...'.join(mylist)\n",
    "print(new_str)"
   ]
  },
  {
   "cell_type": "markdown",
   "id": "61d78583",
   "metadata": {},
   "source": [
    "### capitalize"
   ]
  },
  {
   "cell_type": "code",
   "execution_count": 34,
   "id": "aa1eef27",
   "metadata": {},
   "outputs": [
    {
     "name": "stdout",
     "output_type": "stream",
     "text": [
      "Hello world and itcast and itheima and python\n"
     ]
    }
   ],
   "source": [
    "mystr ='hello world and itcast and itheima and Python'\n",
    "print(mystr.capitalize()) # only the first letter in the first word"
   ]
  },
  {
   "cell_type": "markdown",
   "id": "366d3b1f",
   "metadata": {},
   "source": [
    "### Title"
   ]
  },
  {
   "cell_type": "code",
   "execution_count": 36,
   "id": "545dff13",
   "metadata": {},
   "outputs": [
    {
     "name": "stdout",
     "output_type": "stream",
     "text": [
      "Hello World And Itcast And Itheima And Python\n"
     ]
    }
   ],
   "source": [
    "mystr ='hello world and itcast and itheima and Python'\n",
    "print(mystr.title()) # all first letters in all first words"
   ]
  },
  {
   "cell_type": "markdown",
   "id": "56617a43",
   "metadata": {},
   "source": [
    "### lower and upper"
   ]
  },
  {
   "cell_type": "code",
   "execution_count": 37,
   "id": "4523bb75",
   "metadata": {},
   "outputs": [
    {
     "name": "stdout",
     "output_type": "stream",
     "text": [
      "hello world and itcast and itheima and python\n",
      "HELLO WORLD AND ITCAST AND ITHEIMA AND PYTHON\n"
     ]
    }
   ],
   "source": [
    "mystr ='hello world and itcast and itheima and Python'\n",
    "print(mystr.lower())\n",
    "print(mystr.upper())"
   ]
  },
  {
   "cell_type": "markdown",
   "id": "d2ad1989",
   "metadata": {},
   "source": [
    "### lstrip() rstrip() strip() - delete black space"
   ]
  },
  {
   "cell_type": "code",
   "execution_count": 39,
   "id": "cd0b7575",
   "metadata": {},
   "outputs": [
    {
     "name": "stdout",
     "output_type": "stream",
     "text": [
      "    hello world and itcast and itheima and Python   \n",
      "hello world and itcast and itheima and Python   \n",
      "    hello world and itcast and itheima and Python\n",
      "hello world and itcast and itheima and Python\n"
     ]
    }
   ],
   "source": [
    "mystr ='    hello world and itcast and itheima and Python   '\n",
    "print(mystr)\n",
    "print(mystr.lstrip()) \n",
    "print(mystr.rstrip())\n",
    "print(mystr.strip()) # delete both right and left black space"
   ]
  },
  {
   "cell_type": "markdown",
   "id": "6a1c01cf",
   "metadata": {},
   "source": [
    "### ljust rjust center - aligen"
   ]
  },
  {
   "cell_type": "code",
   "execution_count": 45,
   "id": "8fadc415",
   "metadata": {},
   "outputs": [
    {
     "data": {
      "text/plain": [
       "'  hello   '"
      ]
     },
     "execution_count": 45,
     "metadata": {},
     "output_type": "execute_result"
    }
   ],
   "source": [
    "mystr='hello'\n",
    "mystr.ljust(10,',')\n",
    "mystr.rjust(10,'.')\n",
    "mystr.center(10)"
   ]
  },
  {
   "cell_type": "markdown",
   "id": "391a38bc",
   "metadata": {},
   "source": [
    "### startswith endswith"
   ]
  },
  {
   "cell_type": "code",
   "execution_count": 51,
   "id": "92d5da06",
   "metadata": {},
   "outputs": [
    {
     "data": {
      "text/plain": [
       "True"
      ]
     },
     "execution_count": 51,
     "metadata": {},
     "output_type": "execute_result"
    }
   ],
   "source": [
    "mystr ='hello world and itcast and itheima and Python'\n",
    "mystr.startswith('h')\n",
    "mystr.startswith('hello')\n",
    "mystr.startswith('e')\n",
    "mystr.endswith('on')"
   ]
  },
  {
   "cell_type": "markdown",
   "id": "c6a222d7",
   "metadata": {},
   "source": [
    "### isalpha(), isdigit(), isalnum(),isspace()"
   ]
  },
  {
   "cell_type": "code",
   "execution_count": 59,
   "id": "6ee2d375",
   "metadata": {},
   "outputs": [
    {
     "data": {
      "text/plain": [
       "True"
      ]
     },
     "execution_count": 59,
     "metadata": {},
     "output_type": "execute_result"
    }
   ],
   "source": [
    "mystr ='hello world and itcast and itheima and Python'\n",
    "mystr.isalpha() #false, has black spaces\n",
    "mystr1='123124'\n",
    "mystr1.isdigit() # true\n",
    "mystr2='123fsd23'\n",
    "mystr2.isalnum() #true\n",
    "mystr3='    '\n",
    "mystr3.isspace() # true"
   ]
  },
  {
   "cell_type": "code",
   "execution_count": null,
   "id": "26f8d4ae",
   "metadata": {},
   "outputs": [],
   "source": []
  }
 ],
 "metadata": {
  "kernelspec": {
   "display_name": "Python 3 (ipykernel)",
   "language": "python",
   "name": "python3"
  },
  "language_info": {
   "codemirror_mode": {
    "name": "ipython",
    "version": 3
   },
   "file_extension": ".py",
   "mimetype": "text/x-python",
   "name": "python",
   "nbconvert_exporter": "python",
   "pygments_lexer": "ipython3",
   "version": "3.9.7"
  }
 },
 "nbformat": 4,
 "nbformat_minor": 5
}
