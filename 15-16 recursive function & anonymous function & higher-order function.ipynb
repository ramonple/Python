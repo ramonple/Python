{
 "cells": [
  {
   "cell_type": "markdown",
   "id": "0f9a7e27",
   "metadata": {},
   "source": [
    "# Recursive Function"
   ]
  },
  {
   "cell_type": "markdown",
   "id": "a0025d21",
   "metadata": {},
   "source": [
    "Recursion is a programming idea that applies to scenarios:\n",
    "1. In our daily development, if we want to traverse all the text files under a text folder, we usually use recursion to achieve;\n",
    "2. In the following algorithm courses, many algorithms are inseparable from recursion, such as quicksort.\n",
    "\n",
    "### Characteristic\n",
    "- The function calls itself internally\n",
    "- There must be an exit"
   ]
  },
  {
   "cell_type": "markdown",
   "id": "8bb97f16",
   "metadata": {},
   "source": [
    "### The sum of numbers up to 3"
   ]
  },
  {
   "cell_type": "code",
   "execution_count": 20,
   "id": "6362b447",
   "metadata": {},
   "outputs": [
    {
     "name": "stdout",
     "output_type": "stream",
     "text": [
      "6\n"
     ]
    }
   ],
   "source": [
    "# 3 + 2 + 1\n",
    "def sum_numbers(num):\n",
    "    if num == 1:\n",
    "        return 1  # this is an exit\n",
    "    result = num + sum_numbers(num-1)# calls itself\n",
    "    return result\n",
    "\n",
    "sum_result=sum_numbers(3) # can also be others, e.g., sum_number(100)=5050\n",
    "\n",
    "print(sum_result)"
   ]
  },
  {
   "cell_type": "markdown",
   "id": "ad96a29e",
   "metadata": {},
   "source": [
    "## Lambda expressions -- anonymous function\n",
    "If a function has a return value and only one line of code, it can be simplified with lambda\n",
    "\n",
    "lambda Argument: expression\n",
    "\n",
    "- Arguments to lambda expressions are optional and function arguments are perfectly valid in lambda expressions. \n",
    "- Lambda functions can take any number of arguments but can only return the value of one expression"
   ]
  },
  {
   "cell_type": "code",
   "execution_count": 31,
   "id": "50452fcd",
   "metadata": {},
   "outputs": [
    {
     "name": "stdout",
     "output_type": "stream",
     "text": [
      "<function fn1 at 0x7fab15b5c3a0>\n",
      "200\n",
      "<function <lambda> at 0x7fab15b5c430>\n",
      "100\n"
     ]
    }
   ],
   "source": [
    "# function\n",
    "def fn1():\n",
    "    return 200\n",
    "\n",
    "result = fn1()\n",
    "print(fn1)\n",
    "print(result)\n",
    "\n",
    "# labmda\n",
    "fn2 = lambda: 100 \n",
    "print(fn2) # the location of fn2\n",
    "print(fn2()) "
   ]
  },
  {
   "cell_type": "markdown",
   "id": "038c8bb0",
   "metadata": {},
   "source": [
    "## lambda application: a + b"
   ]
  },
  {
   "cell_type": "code",
   "execution_count": 32,
   "id": "8532f589",
   "metadata": {},
   "outputs": [
    {
     "name": "stdout",
     "output_type": "stream",
     "text": [
      "3\n"
     ]
    }
   ],
   "source": [
    "def add(a,b):\n",
    "    return a+b\n",
    "\n",
    "result=add(2,1)\n",
    "print(result)"
   ]
  },
  {
   "cell_type": "code",
   "execution_count": 35,
   "id": "60add3db",
   "metadata": {},
   "outputs": [
    {
     "name": "stdout",
     "output_type": "stream",
     "text": [
      "3\n"
     ]
    }
   ],
   "source": [
    "fn2 = lambda a,b: a+b\n",
    "print(fn2(1,2))"
   ]
  },
  {
   "cell_type": "code",
   "execution_count": 36,
   "id": "f8157619",
   "metadata": {},
   "outputs": [
    {
     "name": "stdout",
     "output_type": "stream",
     "text": [
      "3\n"
     ]
    }
   ],
   "source": [
    "print(  (lambda a,b : a+b)(1,2))"
   ]
  },
  {
   "cell_type": "markdown",
   "id": "e36c0056",
   "metadata": {},
   "source": [
    "## The argument form of lambda"
   ]
  },
  {
   "cell_type": "markdown",
   "id": "db5768ed",
   "metadata": {},
   "source": [
    "### No parameter"
   ]
  },
  {
   "cell_type": "code",
   "execution_count": 37,
   "id": "31ab9036",
   "metadata": {},
   "outputs": [
    {
     "name": "stdout",
     "output_type": "stream",
     "text": [
      "100\n"
     ]
    }
   ],
   "source": [
    "print((lambda:100)())"
   ]
  },
  {
   "cell_type": "markdown",
   "id": "cee8fa35",
   "metadata": {},
   "source": [
    "### one parameter"
   ]
  },
  {
   "cell_type": "code",
   "execution_count": 39,
   "id": "e4814129",
   "metadata": {},
   "outputs": [
    {
     "name": "stdout",
     "output_type": "stream",
     "text": [
      "hihi\n"
     ]
    }
   ],
   "source": [
    "print((lambda a:a*2)('hi'))"
   ]
  },
  {
   "cell_type": "markdown",
   "id": "f4519fa6",
   "metadata": {},
   "source": [
    "### default paramter"
   ]
  },
  {
   "cell_type": "code",
   "execution_count": 43,
   "id": "51620cf7",
   "metadata": {},
   "outputs": [
    {
     "name": "stdout",
     "output_type": "stream",
     "text": [
      "300\n",
      "300\n"
     ]
    }
   ],
   "source": [
    "print( (lambda a, b, c = 100: a+b+c)(100,100) )\n",
    "print( (lambda a, b, c = 200: a+b+c)(100,100,100) )"
   ]
  },
  {
   "cell_type": "markdown",
   "id": "297fc821",
   "metadata": {},
   "source": [
    "### *args \n",
    "the output is a tuple"
   ]
  },
  {
   "cell_type": "code",
   "execution_count": 46,
   "id": "2e0e7961",
   "metadata": {},
   "outputs": [
    {
     "name": "stdout",
     "output_type": "stream",
     "text": [
      "(10, 20, 30)\n",
      "(10,)\n"
     ]
    }
   ],
   "source": [
    "print( (lambda *args: args)(10,20,30))\n",
    "# the output will be a tuple\n",
    "# if we only have one input\n",
    "print( (lambda *args:args)(10)) # there is a comma ,"
   ]
  },
  {
   "cell_type": "markdown",
   "id": "78dbf2cb",
   "metadata": {},
   "source": [
    "### **kargs\n",
    "the output will be a dictionary"
   ]
  },
  {
   "cell_type": "code",
   "execution_count": 49,
   "id": "8925a798",
   "metadata": {},
   "outputs": [
    {
     "name": "stdout",
     "output_type": "stream",
     "text": [
      "{'name': 'python', 'age': 20}\n"
     ]
    }
   ],
   "source": [
    "print((lambda **kwargs:kwargs)(name='python',age=20))"
   ]
  },
  {
   "cell_type": "markdown",
   "id": "9db7d8e4",
   "metadata": {},
   "source": [
    "## the application of lambda"
   ]
  },
  {
   "cell_type": "markdown",
   "id": "9fcc5350",
   "metadata": {},
   "source": [
    "### Lambda with a judgment"
   ]
  },
  {
   "cell_type": "code",
   "execution_count": 61,
   "id": "a627f1b0",
   "metadata": {},
   "outputs": [
    {
     "name": "stdout",
     "output_type": "stream",
     "text": [
      "100\n"
     ]
    }
   ],
   "source": [
    "print( (lambda a,b : a if a> b else b)(100,50))\n",
    "# review this type: \n",
    "# variable a, variable: condition_satisified_output if xxx else not_satisfied_output"
   ]
  },
  {
   "cell_type": "markdown",
   "id": "0ebd52f8",
   "metadata": {},
   "source": [
    "### List data is sorted by the value of the dictionary key"
   ]
  },
  {
   "cell_type": "code",
   "execution_count": 64,
   "id": "80b674da",
   "metadata": {},
   "outputs": [
    {
     "name": "stdout",
     "output_type": "stream",
     "text": [
      "[{'name': 'Jack', 'age': 22}, {'name': 'ROSE', 'age': 19}, {'name': 'TOM', 'age': 20}]\n"
     ]
    }
   ],
   "source": [
    "students = [\n",
    "    {'name': 'TOM', 'age': 20},\n",
    "    {'name': 'ROSE', 'age': 19},\n",
    "    {'name': 'Jack', 'age': 22}]\n",
    "\n",
    "# order by name Ascending\n",
    "students.sort(key=lambda x:x['name'])\n",
    "print(students)"
   ]
  },
  {
   "cell_type": "code",
   "execution_count": 69,
   "id": "48d7798c",
   "metadata": {},
   "outputs": [
    {
     "name": "stdout",
     "output_type": "stream",
     "text": [
      "[{'name': 'TOM', 'age': 20}, {'name': 'ROSE', 'age': 19}, {'name': 'Jack', 'age': 22}]\n"
     ]
    }
   ],
   "source": [
    "# order by name Descending\n",
    "students.sort(key=lambda x: x['name'], reverse=True)\n",
    "print(students)"
   ]
  },
  {
   "cell_type": "code",
   "execution_count": 72,
   "id": "1b9f5c2f",
   "metadata": {},
   "outputs": [
    {
     "name": "stdout",
     "output_type": "stream",
     "text": [
      "[{'name': 'ROSE', 'age': 19}, {'name': 'TOM', 'age': 20}, {'name': 'Jack', 'age': 22}]\n"
     ]
    }
   ],
   "source": [
    "# order by age Ascending\n",
    "students.sort(key=lambda x : x['age'])\n",
    "print(students)"
   ]
  },
  {
   "cell_type": "code",
   "execution_count": 73,
   "id": "116edeb3",
   "metadata": {},
   "outputs": [
    {
     "name": "stdout",
     "output_type": "stream",
     "text": [
      "[{'name': 'TOM', 'age': 20}, {'name': 'ROSE', 'age': 19}, {'name': 'Jack', 'age': 22}]\n"
     ]
    }
   ],
   "source": [
    "# order by age Descending\n",
    "students.sort(key=lambda x:x['name'],reverse=True)\n",
    "print(students)"
   ]
  },
  {
   "cell_type": "markdown",
   "id": "c11f3f12",
   "metadata": {},
   "source": [
    "## higher-order function"
   ]
  },
  {
   "cell_type": "code",
   "execution_count": 76,
   "id": "0c8305a7",
   "metadata": {},
   "outputs": [
    {
     "data": {
      "text/plain": [
       "10"
      ]
     },
     "execution_count": 76,
     "metadata": {},
     "output_type": "execute_result"
    }
   ],
   "source": [
    "abs(-10)"
   ]
  },
  {
   "cell_type": "code",
   "execution_count": 77,
   "id": "13f5d772",
   "metadata": {},
   "outputs": [
    {
     "data": {
      "text/plain": [
       "1"
      ]
     },
     "execution_count": 77,
     "metadata": {},
     "output_type": "execute_result"
    }
   ],
   "source": [
    "round(1.2)"
   ]
  },
  {
   "cell_type": "code",
   "execution_count": 78,
   "id": "f812db95",
   "metadata": {},
   "outputs": [
    {
     "data": {
      "text/plain": [
       "2"
      ]
     },
     "execution_count": 78,
     "metadata": {},
     "output_type": "execute_result"
    }
   ],
   "source": [
    "round(1.9)"
   ]
  },
  {
   "cell_type": "code",
   "execution_count": 80,
   "id": "28db1918",
   "metadata": {},
   "outputs": [
    {
     "name": "stdout",
     "output_type": "stream",
     "text": [
      "3\n"
     ]
    }
   ],
   "source": [
    "def add_num(a,b):\n",
    "    return abs(a) + abs(b)\n",
    "\n",
    "result=add_num(-1,2)\n",
    "print(result)"
   ]
  },
  {
   "cell_type": "code",
   "execution_count": 82,
   "id": "d4f19f79",
   "metadata": {},
   "outputs": [
    {
     "name": "stdout",
     "output_type": "stream",
     "text": [
      "3\n"
     ]
    }
   ],
   "source": [
    "def sum_num(a,b,f):\n",
    "    return f(a)+f(b)\n",
    "\n",
    "result=sum_num(-1,2,abs)\n",
    "print(result)"
   ]
  },
  {
   "cell_type": "code",
   "execution_count": 84,
   "id": "e552a6a1",
   "metadata": {},
   "outputs": [
    {
     "name": "stdout",
     "output_type": "stream",
     "text": [
      "6\n"
     ]
    }
   ],
   "source": [
    "def abs_num(a,b,f):\n",
    "    return f(a)+f(b)\n",
    "\n",
    "result=abs_num(-1,5,abs)\n",
    "print(result)"
   ]
  },
  {
   "cell_type": "markdown",
   "id": "772a8d0b",
   "metadata": {},
   "source": [
    "### map\n",
    "\n",
    "map(func, lst): \n",
    "\n",
    "Apply the function variable func to each element of the LST variable and return the result as a new column list (Python2)/ iterator (Python3)"
   ]
  },
  {
   "cell_type": "code",
   "execution_count": 88,
   "id": "c52cc834",
   "metadata": {},
   "outputs": [
    {
     "name": "stdout",
     "output_type": "stream",
     "text": [
      "<map object at 0x7fab15b55a90>\n",
      "[1, 4, 9, 16, 25]\n"
     ]
    }
   ],
   "source": [
    "list1=[1,2,3,4,5]\n",
    "\n",
    "def func(x):\n",
    "    return x**2\n",
    "\n",
    "result=map(func,list1)\n",
    "print(result) # will be the result location\n",
    "print(list(result))"
   ]
  },
  {
   "cell_type": "markdown",
   "id": "d07924d2",
   "metadata": {},
   "source": [
    "### reduce\n",
    "\n",
    "reduce(func(x,y)，lst)\n",
    "\n",
    "Where func must take two arguments. The result of each func calculation continues to accumulate with the next element in the sequence column.\n",
    "\n",
    "Notice: the argument func passed in by reduce() must accept two arguments"
   ]
  },
  {
   "cell_type": "code",
   "execution_count": 93,
   "id": "7a14e02d",
   "metadata": {},
   "outputs": [
    {
     "name": "stdout",
     "output_type": "stream",
     "text": [
      "15\n"
     ]
    }
   ],
   "source": [
    "import functools\n",
    "\n",
    "list1 = [1, 2, 3, 4, 5]\n",
    "\n",
    "def func(a, b):\n",
    "    return a + b\n",
    "\n",
    "result = functools.reduce(func, list1)\n",
    "print(result)  \n",
    "#1+2+3+4+5"
   ]
  },
  {
   "cell_type": "code",
   "execution_count": 92,
   "id": "ad08a220",
   "metadata": {},
   "outputs": [
    {
     "name": "stdout",
     "output_type": "stream",
     "text": [
      "0\n"
     ]
    }
   ],
   "source": [
    "import functools\n",
    "\n",
    "list2=[3,2,1]\n",
    "\n",
    "def func2(a,b):\n",
    "    return a-b\n",
    "result = functools.reduce(func2,list2)\n",
    "print(result)\n",
    "#3-2-1"
   ]
  },
  {
   "cell_type": "markdown",
   "id": "ec6b7f23",
   "metadata": {},
   "source": [
    "### filter\n",
    "\n",
    "filter(func, lst)\n",
    "\n",
    "The filter () function is used to filter out a sequence of unqualified elements, returning a filter object. If you want to convert to a list of columns, use list() to convert."
   ]
  },
  {
   "cell_type": "code",
   "execution_count": 95,
   "id": "0f9832d5",
   "metadata": {},
   "outputs": [
    {
     "name": "stdout",
     "output_type": "stream",
     "text": [
      "<filter object at 0x7fab15b3ebb0>\n",
      "[2, 4, 6, 8, 10]\n"
     ]
    }
   ],
   "source": [
    "list1 = [1, 2, 3, 4, 5, 6, 7, 8, 9, 10]\n",
    "\n",
    "def func(x):\n",
    "    return x%2 == 0 # even number\n",
    "\n",
    "result = filter(func,list1)\n",
    "\n",
    "print(result)\n",
    "print(list(result))"
   ]
  },
  {
   "cell_type": "code",
   "execution_count": 96,
   "id": "a167a17c",
   "metadata": {},
   "outputs": [
    {
     "name": "stdout",
     "output_type": "stream",
     "text": [
      "<filter object at 0x7fab15b3e310>\n",
      "[6, 7, 8, 9, 10]\n"
     ]
    }
   ],
   "source": [
    "list1 = [1, 2, 3, 4, 5, 6, 7, 8, 9, 10]\n",
    "\n",
    "def func(x):\n",
    "    return x > 5 # even number\n",
    "\n",
    "result = filter(func,list1)\n",
    "\n",
    "print(result)\n",
    "print(list(result))"
   ]
  }
 ],
 "metadata": {
  "kernelspec": {
   "display_name": "Python 3 (ipykernel)",
   "language": "python",
   "name": "python3"
  },
  "language_info": {
   "codemirror_mode": {
    "name": "ipython",
    "version": 3
   },
   "file_extension": ".py",
   "mimetype": "text/x-python",
   "name": "python",
   "nbconvert_exporter": "python",
   "pygments_lexer": "ipython3",
   "version": "3.9.7"
  }
 },
 "nbformat": 4,
 "nbformat_minor": 5
}
