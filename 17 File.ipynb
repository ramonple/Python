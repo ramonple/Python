{
 "cells": [
  {
   "cell_type": "markdown",
   "id": "14c43955",
   "metadata": {},
   "source": [
    "### operations\n",
    "- open\n",
    "- read write\n",
    "- close\n",
    "\n",
    "Copy\n",
    "\n",
    "Back up\n",
    "\n",
    "Delete"
   ]
  },
  {
   "cell_type": "code",
   "execution_count": null,
   "id": "328f4ff4",
   "metadata": {},
   "outputs": [],
   "source": [
    "open(name,mode) \n",
    "\n",
    "#name: file name, can also include the path\n",
    "#mode: whether to read, write, append"
   ]
  },
  {
   "cell_type": "code",
   "execution_count": 13,
   "id": "60886d89",
   "metadata": {},
   "outputs": [],
   "source": [
    "f = open('test.txt','w') # w:write\n",
    "         \n",
    "f.write('this is a test')\n",
    "         \n",
    "f.close()         "
   ]
  },
  {
   "cell_type": "code",
   "execution_count": 5,
   "id": "b179f230",
   "metadata": {},
   "outputs": [
    {
     "ename": "FileNotFoundError",
     "evalue": "[Errno 2] No such file or directory: 'test1.txt'",
     "output_type": "error",
     "traceback": [
      "\u001b[0;31m---------------------------------------------------------------------------\u001b[0m",
      "\u001b[0;31mFileNotFoundError\u001b[0m                         Traceback (most recent call last)",
      "\u001b[0;32m/var/folders/n0/rr0bk9yn2d156tv_qkmj0d_m0000gn/T/ipykernel_42180/1785668757.py\u001b[0m in \u001b[0;36m<module>\u001b[0;34m\u001b[0m\n\u001b[0;32m----> 1\u001b[0;31m \u001b[0mf\u001b[0m \u001b[0;34m=\u001b[0m \u001b[0mopen\u001b[0m\u001b[0;34m(\u001b[0m\u001b[0;34m'test1.txt'\u001b[0m\u001b[0;34m,\u001b[0m\u001b[0;34m'r'\u001b[0m\u001b[0;34m)\u001b[0m\u001b[0;34m\u001b[0m\u001b[0;34m\u001b[0m\u001b[0m\n\u001b[0m\u001b[1;32m      2\u001b[0m \u001b[0mf\u001b[0m\u001b[0;34m.\u001b[0m\u001b[0mclose\u001b[0m\u001b[0;34m(\u001b[0m\u001b[0;34m)\u001b[0m\u001b[0;34m\u001b[0m\u001b[0;34m\u001b[0m\u001b[0m\n",
      "\u001b[0;31mFileNotFoundError\u001b[0m: [Errno 2] No such file or directory: 'test1.txt'"
     ]
    }
   ],
   "source": [
    "f = open('test1.txt','r')\n",
    "f.close()"
   ]
  },
  {
   "cell_type": "code",
   "execution_count": 14,
   "id": "c1dd0a2d",
   "metadata": {},
   "outputs": [],
   "source": [
    "f = open('test.txt','a')\n",
    "f.write('check extend ')\n",
    "f.close()"
   ]
  },
  {
   "cell_type": "markdown",
   "id": "cb6f810b",
   "metadata": {},
   "source": [
    "## read"
   ]
  },
  {
   "cell_type": "code",
   "execution_count": 17,
   "id": "4c2ba73f",
   "metadata": {},
   "outputs": [
    {
     "name": "stdout",
     "output_type": "stream",
     "text": [
      "aaaaa\n",
      "bbbb\n"
     ]
    }
   ],
   "source": [
    "f = open('test.txt','r')\n",
    "print(f.read(10))  # change line should use \\n, thus we have a*5 \\n b*4\n",
    "f.close()"
   ]
  },
  {
   "cell_type": "code",
   "execution_count": 19,
   "id": "64f7f6ba",
   "metadata": {},
   "outputs": [
    {
     "name": "stdout",
     "output_type": "stream",
     "text": [
      "['aaaaa\\n', 'bbbbb\\n', 'ccccc\\n', 'ddddd']\n"
     ]
    }
   ],
   "source": [
    "f = open('test.txt')\n",
    "\n",
    "content = f.readlines()\n",
    "print(content)\n",
    "\n",
    "f.close()"
   ]
  },
  {
   "cell_type": "code",
   "execution_count": 24,
   "id": "9b019eaa",
   "metadata": {},
   "outputs": [
    {
     "name": "stdout",
     "output_type": "stream",
     "text": [
      "aaaaa\n",
      "\n",
      "bbbbb\n",
      "\n"
     ]
    }
   ],
   "source": [
    "f = open('test.txt')\n",
    "\n",
    "content = f.readline()\n",
    "print(content)\n",
    "\n",
    "content = f.readline()\n",
    "print(content)\n",
    "\n",
    "f.close()"
   ]
  },
  {
   "cell_type": "markdown",
   "id": "23bc0cdd",
   "metadata": {},
   "source": [
    "### test the r+, w+ and a+\n",
    "\n"
   ]
  },
  {
   "cell_type": "code",
   "execution_count": 26,
   "id": "03e51973",
   "metadata": {},
   "outputs": [],
   "source": [
    "f = open('test1.txt','r+')\n",
    "f.close()\n",
    "# r+ cannot open an unexist file"
   ]
  },
  {
   "cell_type": "code",
   "execution_count": 27,
   "id": "7323fa26",
   "metadata": {},
   "outputs": [
    {
     "name": "stdout",
     "output_type": "stream",
     "text": [
      "aaaaa\n",
      "bbbbb\n",
      "ccccc\n",
      "ddddd\n"
     ]
    }
   ],
   "source": [
    "f = open('test.txt','r+')\n",
    "con=f.read()\n",
    "print(con)\n",
    "\n",
    "# r+ read from the begining"
   ]
  },
  {
   "cell_type": "code",
   "execution_count": null,
   "id": "5af5ade6",
   "metadata": {},
   "outputs": [],
   "source": [
    "f = open('test.txt','w+')\n",
    "f.close()\n",
    "# we can write an unexist file"
   ]
  },
  {
   "cell_type": "code",
   "execution_count": 28,
   "id": "b2391c3c",
   "metadata": {},
   "outputs": [
    {
     "name": "stdout",
     "output_type": "stream",
     "text": [
      "\n"
     ]
    }
   ],
   "source": [
    "f=open('test.text','w+')\n",
    "con=f.read()\n",
    "print(con)\n",
    "\n",
    "# write will use new content replace the previous one. All content will be covered by blank here"
   ]
  },
  {
   "cell_type": "code",
   "execution_count": null,
   "id": "7c46617f",
   "metadata": {},
   "outputs": [],
   "source": [
    "f = open('test10.txt','a+') # will create a new file"
   ]
  },
  {
   "cell_type": "code",
   "execution_count": 29,
   "id": "d0ee1de2",
   "metadata": {},
   "outputs": [
    {
     "name": "stdout",
     "output_type": "stream",
     "text": [
      "\n"
     ]
    }
   ],
   "source": [
    "f = open('test.txt','a+')\n",
    "con=f.read()\n",
    "print(con)\n",
    "\n",
    "# the pointer is at the end. there is no content after this point. thus we cannot read anything"
   ]
  },
  {
   "cell_type": "markdown",
   "id": "1c7802cd",
   "metadata": {},
   "source": [
    "## seek\n",
    "\n",
    "Use to change the location of the pointer\n",
    "\n",
    "File object. Seek (offset, starting position) \n",
    "\n",
    "- begin = 0, current = 1, end=2"
   ]
  },
  {
   "cell_type": "code",
   "execution_count": 4,
   "id": "8e50b051",
   "metadata": {},
   "outputs": [
    {
     "name": "stdout",
     "output_type": "stream",
     "text": [
      "aaa\n",
      "bbbbb\n",
      "ccccc\n",
      "ddddd\n",
      "eeeee\n"
     ]
    }
   ],
   "source": [
    "f=open('test.txt','r+')\n",
    "f.seek(2,0) # as we are using r, we can also use f.seek(2,1)\n",
    "con=f.read()\n",
    "print(con)\n",
    "f.close()"
   ]
  },
  {
   "cell_type": "code",
   "execution_count": 6,
   "id": "bfd8bfb8",
   "metadata": {},
   "outputs": [
    {
     "name": "stdout",
     "output_type": "stream",
     "text": [
      "\n"
     ]
    }
   ],
   "source": [
    "f=open('test.txt','r+')\n",
    "f.seek(0,2) # as we are using r, we can also use f.seek(2,1)\n",
    "con=f.read()\n",
    "print(con)\n",
    "f.close()\n",
    "# after chaging the pointer to the end, we cannot read information. As no information after the end point"
   ]
  },
  {
   "cell_type": "code",
   "execution_count": 12,
   "id": "b7a7735f",
   "metadata": {},
   "outputs": [
    {
     "name": "stdout",
     "output_type": "stream",
     "text": [
      "aaaaa\n",
      "bbbbb\n",
      "ccccc\n",
      "ddddd\n",
      "eeeee\n"
     ]
    }
   ],
   "source": [
    "f=open('test.txt','a+')\n",
    "f.seek(0,0)  # = f.seek(0) - change the pointer to the beginning of the file\n",
    "con=f.read()\n",
    "print(con)\n",
    "f.close()"
   ]
  },
  {
   "cell_type": "markdown",
   "id": "dd6fe967",
   "metadata": {},
   "source": [
    "## File backup\n",
    "\n",
    "Step \n",
    "1. Receive the file name entered by the user\n",
    "2. Plan the backup file name\n",
    "3. Write the backup file to data"
   ]
  },
  {
   "cell_type": "code",
   "execution_count": 28,
   "id": "3ea97011",
   "metadata": {},
   "outputs": [
    {
     "name": "stdout",
     "output_type": "stream",
     "text": [
      "please input the file name you want to backuptest.txt\n",
      "test.txt\n"
     ]
    }
   ],
   "source": [
    "old_name = input('please input the file name you want to backup')\n",
    "print(old_name)"
   ]
  },
  {
   "cell_type": "code",
   "execution_count": 34,
   "id": "0a8af669",
   "metadata": {},
   "outputs": [
    {
     "name": "stdout",
     "output_type": "stream",
     "text": [
      "test\n",
      ".txt\n",
      "test[backup].txt\n"
     ]
    }
   ],
   "source": [
    "# find the suffix of the file name, the last '.'\n",
    "index = old_name.rfind('.')\n",
    "\n",
    "print(old_name[:index]) # file name, from the beginning to the last '.'\n",
    "print(old_name[index:]) # file suffix, from the last . to the end\n",
    "\n",
    "new_name = old_name[:index] +'[backup]'+old_name[index:]\n",
    "print(new_name)"
   ]
  },
  {
   "cell_type": "code",
   "execution_count": 35,
   "id": "6ae3b415",
   "metadata": {},
   "outputs": [],
   "source": [
    "# 1. open the file\n",
    "old_f = open(old_name,'rb') # rb: binary system\n",
    "new_f = open(new_name,'wb')\n",
    "\n",
    "# 2. write the orginal file into the copy one\n",
    "while True: \n",
    "    con=old_f.read(1024) # the length to read\n",
    "    if len(con) == 0: # stop when there is no item to read and write\n",
    "       break\n",
    "    new_f.write(con)\n",
    "    \n",
    "    \n",
    "# 3. close the file\n",
    "old_f.close()\n",
    "new_f.close()"
   ]
  },
  {
   "cell_type": "markdown",
   "id": "c8db1a92",
   "metadata": {},
   "source": [
    "## invalid file name"
   ]
  },
  {
   "cell_type": "code",
   "execution_count": null,
   "id": "6accf163",
   "metadata": {},
   "outputs": [],
   "source": [
    "old_name = input('please input the file name you want to backup')\n",
    "print(old_name)\n",
    "\n",
    "index = old_name.rfind('.')\n",
    "\n",
    "if index > 0:\n",
    "    postfix = old_name[index:]\n",
    "    \n",
    "new_name = old_name[:index] +'[backup]'+ postfix\n",
    "\n",
    "old_f = open(old_name,'rb') # rb: binary system\n",
    "new_f = open(new_name,'wb')\n",
    "\n",
    "while True: \n",
    "    con=old_f.read(1024) # the length to read\n",
    "    if len(con) == 0: # stop when there is no item to read and write\n",
    "       break\n",
    "    new_f.write(con)"
   ]
  },
  {
   "cell_type": "markdown",
   "id": "1b7cc4ba",
   "metadata": {},
   "source": [
    "## File and Folder\n",
    "\n",
    "- a. os.rename(old_name,new_name)\n",
    "\n",
    "- b. os.remove()"
   ]
  },
  {
   "cell_type": "code",
   "execution_count": 36,
   "id": "d11be8ed",
   "metadata": {},
   "outputs": [],
   "source": [
    "import os"
   ]
  },
  {
   "cell_type": "code",
   "execution_count": 37,
   "id": "d7f49188",
   "metadata": {},
   "outputs": [],
   "source": [
    "os.rename('test.txt','test_new.txt')"
   ]
  },
  {
   "cell_type": "code",
   "execution_count": 38,
   "id": "a5bcecb9",
   "metadata": {},
   "outputs": [],
   "source": [
    "os.remove('test[backup].txt')"
   ]
  },
  {
   "cell_type": "markdown",
   "id": "f1d007e7",
   "metadata": {},
   "source": [
    "- a. os.mkdir()  # mk: make -  make a new folder\n",
    "- b. os.rmdir() # rm: remove - remove an existing folder\n",
    "- c. os.getcwd() # get current path of the file\n",
    "- d. os.chdir() # change the default folder\n",
    "- e. os.listdir() # get the list of the files in this folder"
   ]
  },
  {
   "cell_type": "code",
   "execution_count": 41,
   "id": "e1e56779",
   "metadata": {},
   "outputs": [],
   "source": [
    "os.mkdir('aa')"
   ]
  },
  {
   "cell_type": "code",
   "execution_count": 42,
   "id": "28a973f4",
   "metadata": {},
   "outputs": [],
   "source": [
    "os.rmdir('aa')"
   ]
  },
  {
   "cell_type": "code",
   "execution_count": 43,
   "id": "4485aacc",
   "metadata": {},
   "outputs": [
    {
     "name": "stdout",
     "output_type": "stream",
     "text": [
      "/Users/yikaima/Desktop/Python/python_beginner\n"
     ]
    }
   ],
   "source": [
    "print(os.getcwd())"
   ]
  },
  {
   "cell_type": "code",
   "execution_count": 44,
   "id": "dc978c97",
   "metadata": {},
   "outputs": [],
   "source": [
    "os.mkdir('aa')\n",
    "\n",
    "# now want to create a new folder 'bb' under folder 'aa'\n",
    "os.chdir('aa')\n",
    "os.mkdir('bb')"
   ]
  },
  {
   "cell_type": "code",
   "execution_count": 53,
   "id": "5d2a05c9",
   "metadata": {},
   "outputs": [],
   "source": [
    "os.chdir('/Users/yikaima/Desktop/Python/python_beginner')\n",
    "os.rmdir('aa')"
   ]
  },
  {
   "cell_type": "code",
   "execution_count": 54,
   "id": "cbc203ea",
   "metadata": {},
   "outputs": [
    {
     "name": "stdout",
     "output_type": "stream",
     "text": [
      "['7 - String.ipynb', '【1-14】课件和源码', '10 - General Approaches.ipynb', '9 - Dictionary and Set.ipynb', '.DS_Store', 'test.text', 'Normalization VS Standardization.ipynb', 'bin', '11 - Comprehensions.ipynb', 'pyvenv.cfg', 'pyhcharm test', 'test.py', 'Python1和2编程（课件和源码）', '12 13 - Function.ipynb', '8 - List and Tuple.ipynb', '.gitignore', 'lib', '.ipynb_checkpoints', '15-16 recursive function & anonymous function & higher-order function.ipynb', 'test_new.txt', 'untitled', '14 Function_advanced.ipynb', '17 File.ipynb', '.idea']\n"
     ]
    }
   ],
   "source": [
    "print(os.listdir())"
   ]
  },
  {
   "cell_type": "code",
   "execution_count": 55,
   "id": "f70c1efd",
   "metadata": {},
   "outputs": [],
   "source": []
  },
  {
   "cell_type": "code",
   "execution_count": null,
   "id": "77759508",
   "metadata": {},
   "outputs": [],
   "source": []
  }
 ],
 "metadata": {
  "kernelspec": {
   "display_name": "Python 3 (ipykernel)",
   "language": "python",
   "name": "python3"
  },
  "language_info": {
   "codemirror_mode": {
    "name": "ipython",
    "version": 3
   },
   "file_extension": ".py",
   "mimetype": "text/x-python",
   "name": "python",
   "nbconvert_exporter": "python",
   "pygments_lexer": "ipython3",
   "version": "3.9.7"
  }
 },
 "nbformat": 4,
 "nbformat_minor": 5
}
