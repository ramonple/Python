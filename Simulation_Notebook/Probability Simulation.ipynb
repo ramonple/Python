{
 "cells": [
  {
   "cell_type": "markdown",
   "id": "a44640cc",
   "metadata": {},
   "source": [
    "## Simulating probability events in Python\n",
    "\n",
    "https://medium.com/future-vision/simulating-probability-events-in-python-5dd29e34e381\n",
    "\n"
   ]
  },
  {
   "cell_type": "markdown",
   "id": "94fb753e",
   "metadata": {},
   "source": [
    "#### Question 1:\n",
    "\n",
    "Two unbiased dice are thrown once and the total score is observed. \n",
    "\n",
    "Use a simulation to find the estimated probability that the total score is even or greater than 7?"
   ]
  },
  {
   "cell_type": "markdown",
   "id": "350d3f36",
   "metadata": {},
   "source": [
    "1. Run the experiment 1000 times and record the results\n",
    "\n",
    "2. Keep track of the number of times that the sum of two dices > 7\n",
    "\n",
    "3. Divde the number from step 1 / 1000"
   ]
  },
  {
   "cell_type": "code",
   "execution_count": 13,
   "id": "5a28e82c",
   "metadata": {},
   "outputs": [
    {
     "name": "stdout",
     "output_type": "stream",
     "text": [
      "The probability of rolling an even number or greater than 7 is: 77.4 %\n"
     ]
    }
   ],
   "source": [
    "import random\n",
    "import numpy as np\n",
    "\n",
    "random.seed(4)\n",
    "\n",
    "def roll_the_dice(n_simulations = 1000):\n",
    "    count = 0\n",
    "    \n",
    "    for i in range(n_simulations):\n",
    "        die1 = random.randint(1,7)\n",
    "        die2 = random.randint(1,7)\n",
    "        score = die1+die2\n",
    "        \n",
    "        if score % 2 == 0 or score > 7:\n",
    "            count += 1\n",
    "    return count/n_simulations\n",
    "\n",
    "string = \"The probability of rolling an even number or greater than 7 is:\"\n",
    "\n",
    "print(string, np.round(roll_the_dice()*100,2),'%') # notice to print what!!!!!"
   ]
  },
  {
   "cell_type": "markdown",
   "id": "2b74884c",
   "metadata": {},
   "source": [
    "## Question 2:\n",
    "A box contains 10 white balls, 20 reds and 30 greens. Draw 5 balls with replacement… what is the probability that:\n",
    "\n",
    "a. 3 white or 2 red\n",
    "\n",
    "b. All 5 are the same color"
   ]
  },
  {
   "cell_type": "code",
   "execution_count": 63,
   "id": "891fded0",
   "metadata": {},
   "outputs": [
    {
     "name": "stdout",
     "output_type": "stream",
     "text": [
      "The probability of a is: 0.4 %\n",
      "The probability of b is: 4.2 %\n"
     ]
    }
   ],
   "source": [
    "# let set up a dictionary.\n",
    "# The dic will allow us to randomly choose a ball\n",
    "\n",
    "import random\n",
    "random.seed(1)\n",
    "\n",
    "d ={}\n",
    "\n",
    "for i in range(60): # in total, we have 60 balls\n",
    "    if i < 10:\n",
    "        d[i] = 'white'\n",
    "    elif i > 9 and i < 30:\n",
    "        d[i] = 'red'\n",
    "    else:\n",
    "        d[i] = 'green'\n",
    "\n",
    "n_simulations = 1000\n",
    "part_a_total = 0\n",
    "part_b_total = 0\n",
    "\n",
    "for i in range(n_simulations):\n",
    "    # make a list of the colors that the chose\n",
    "    lst =[]\n",
    "    for i in range(5): # we draw 5 balls\n",
    "        lst.append(d[random.randint(0,59)]) # for randint(a,b) -> both included\n",
    "            # convert it to a numpy array\n",
    "            # a lst example: ['red', 'red', 'red', 'green', 'green']\n",
    "   \n",
    "    lst = np.array(lst)\n",
    "    # after this, lst: array(['red', 'red', 'red', 'green', 'green'], dtype='<U5')\n",
    "   \n",
    "    white = sum(lst =='white')\n",
    "    red = sum(lst =='red')\n",
    "    green = sum(lst =='green')\n",
    "    \n",
    "    if white == 3 and red == 2:\n",
    "        part_a_total += 1\n",
    "    \n",
    "    if red == 5 or white == 5 or green == 5:\n",
    "        part_b_total += 1\n",
    "        \n",
    "\n",
    "print(\"The probability of a is:\", round((part_a_total/n_simulations) * 100,3), \"%\" )\n",
    "\n",
    "print(\"The probability of b is:\", round((part_b_total/n_simulations) * 100,3), \"%\" )\n",
    "    \n",
    "\n",
    "    "
   ]
  },
  {
   "cell_type": "code",
   "execution_count": 42,
   "id": "f22fcc41",
   "metadata": {},
   "outputs": [
    {
     "name": "stdout",
     "output_type": "stream",
     "text": [
      "0 3 2\n"
     ]
    }
   ],
   "source": [
    "# for list, we can also:\n",
    "\n",
    "lst = ['red', 'red', 'red', 'green', 'green']\n",
    "white = sum(map(lambda x : x =='white',lst))\n",
    "red = sum(map(lambda y : y =='red', lst))\n",
    "green = sum(map(lambda z: z =='green', lst))\n",
    "\n",
    "print(white,red,green)\n"
   ]
  },
  {
   "cell_type": "markdown",
   "id": "6cc0ba9a",
   "metadata": {},
   "source": [
    "## Question 3:\n",
    "\n",
    "two chidren, the probability of all gender combinations\n"
   ]
  },
  {
   "cell_type": "code",
   "execution_count": 79,
   "id": "8e0414b0",
   "metadata": {},
   "outputs": [
    {
     "name": "stdout",
     "output_type": "stream",
     "text": [
      "prob of two girls: 24.84 %\n",
      "prob of two boys: 25.17 %\n",
      "prob of one girl one boy: 49.99 %\n"
     ]
    }
   ],
   "source": [
    "import random\n",
    "import numpy as np\n",
    "\n",
    "n_simulations = 10000\n",
    "\n",
    "both_grils = 0\n",
    "both_boys = 0\n",
    "one_girl_one_boy = 0\n",
    "\n",
    "for i in range(n_simulations):\n",
    "    kid1 = random.choice([\"girl\",\"boy\"])\n",
    "    kid2 = random.choice([\"girl\",\"boy\"])\n",
    "    \n",
    "    if kid1 == 'girl':\n",
    "        if kid2 == 'girl':\n",
    "            both_grils += 1\n",
    "        else:\n",
    "            one_girl_one_boy += 1\n",
    "            \n",
    "    if kid1 =='boy':\n",
    "        if kid2 =='boy':\n",
    "            both_boys += 1 \n",
    "        else:\n",
    "            one_girl_one_boy += 1\n",
    "    \n",
    "print(\"prob of two girls:\", np.round(both_grils / n_simulations*100,2),\"%\")\n",
    "print(\"prob of two boys:\", np.round(both_boys / n_simulations*100 ,2),\"%\")\n",
    "print(\"prob of one girl one boy:\", np.round(one_girl_one_boy / n_simulations*100,2),\"%\") "
   ]
  },
  {
   "cell_type": "markdown",
   "id": "237e867d",
   "metadata": {},
   "source": [
    "# Visualisation"
   ]
  },
  {
   "cell_type": "markdown",
   "id": "570c7d05",
   "metadata": {},
   "source": [
    "### 1. Dice roll"
   ]
  },
  {
   "cell_type": "code",
   "execution_count": 94,
   "id": "78b3b745",
   "metadata": {},
   "outputs": [
    {
     "data": {
      "text/plain": [
       "Text(0.5, 1.0, 'Sum of 20 rolls (1000 times)')"
      ]
     },
     "execution_count": 94,
     "metadata": {},
     "output_type": "execute_result"
    },
    {
     "data": {
      "image/png": "[encoded data removed]",
      "text/plain": [
       "<Figure size 432x288 with 1 Axes>"
      ]
     },
     "metadata": {
      "needs_background": "light"
     },
     "output_type": "display_data"
    }
   ],
   "source": [
    "import matplotlib.pyplot as plt\n",
    "import random\n",
    "\n",
    "def roll(num_rolls):\n",
    "    outcomes = [random.randint(1, 6) for _ in range(num_rolls)] # _: people usually use it to indicate that the loop counter is not actually used in the loop.\n",
    "    return sum(outcomes)\n",
    "\n",
    "num_rolls = 20\n",
    "simulation_times = 1000\n",
    "sums = [roll(n) for _ in range(simulation_times)]\n",
    "\n",
    "plt.hist(sums, bins=40)\n",
    "plt.title(f\"Sum of {num_rolls} rolls ({simulation_times} times)\")"
   ]
  },
  {
   "cell_type": "code",
   "execution_count": null,
   "id": "7218d3be",
   "metadata": {},
   "outputs": [],
   "source": []
  }
 ],
 "metadata": {
  "kernelspec": {
   "display_name": "Python 3 (ipykernel)",
   "language": "python",
   "name": "python3"
  },
  "language_info": {
   "codemirror_mode": {
    "name": "ipython",
    "version": 3
   },
   "file_extension": ".py",
   "mimetype": "text/x-python",
   "name": "python",
   "nbconvert_exporter": "python",
   "pygments_lexer": "ipython3",
   "version": "3.9.7"
  }
 },
 "nbformat": 4,
 "nbformat_minor": 5
}
