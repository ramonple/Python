{
 "cells": [
  {
   "cell_type": "code",
   "execution_count": 142,
   "id": "0598a6b8",
   "metadata": {},
   "outputs": [
    {
     "name": "stdout",
     "output_type": "stream",
     "text": [
      "<class 'sklearn.utils.Bunch'>\n"
     ]
    }
   ],
   "source": [
    "import numpy as np\n",
    "import seaborn as sns\n",
    "import pandas as pd\n",
    "import matplotlib.pyplot as  plt\n",
    "\n",
    "%matplotlib inline\n",
    "\n",
    "from sklearn.cluster import KMeans\n",
    "from sklearn import datasets\n",
    "\n",
    "iris = datasets.load_iris()\n",
    "\n",
    "print(type(iris))\n"
   ]
  },
  {
   "cell_type": "code",
   "execution_count": 144,
   "id": "b5680fdf",
   "metadata": {},
   "outputs": [
    {
     "data": {
      "text/html": [
       "<div>\n",
       "<style scoped>\n",
       "    .dataframe tbody tr th:only-of-type {\n",
       "        vertical-align: middle;\n",
       "    }\n",
       "\n",
       "    .dataframe tbody tr th {\n",
       "        vertical-align: top;\n",
       "    }\n",
       "\n",
       "    .dataframe thead th {\n",
       "        text-align: right;\n",
       "    }\n",
       "</style>\n",
       "<table border=\"1\" class=\"dataframe\">\n",
       "  <thead>\n",
       "    <tr style=\"text-align: right;\">\n",
       "      <th></th>\n",
       "      <th>0</th>\n",
       "      <th>1</th>\n",
       "      <th>2</th>\n",
       "      <th>3</th>\n",
       "    </tr>\n",
       "  </thead>\n",
       "  <tbody>\n",
       "    <tr>\n",
       "      <th>0</th>\n",
       "      <td>5.1</td>\n",
       "      <td>3.5</td>\n",
       "      <td>1.4</td>\n",
       "      <td>0.2</td>\n",
       "    </tr>\n",
       "    <tr>\n",
       "      <th>1</th>\n",
       "      <td>4.9</td>\n",
       "      <td>3.0</td>\n",
       "      <td>1.4</td>\n",
       "      <td>0.2</td>\n",
       "    </tr>\n",
       "    <tr>\n",
       "      <th>2</th>\n",
       "      <td>4.7</td>\n",
       "      <td>3.2</td>\n",
       "      <td>1.3</td>\n",
       "      <td>0.2</td>\n",
       "    </tr>\n",
       "    <tr>\n",
       "      <th>3</th>\n",
       "      <td>4.6</td>\n",
       "      <td>3.1</td>\n",
       "      <td>1.5</td>\n",
       "      <td>0.2</td>\n",
       "    </tr>\n",
       "    <tr>\n",
       "      <th>4</th>\n",
       "      <td>5.0</td>\n",
       "      <td>3.6</td>\n",
       "      <td>1.4</td>\n",
       "      <td>0.2</td>\n",
       "    </tr>\n",
       "  </tbody>\n",
       "</table>\n",
       "</div>"
      ],
      "text/plain": [
       "     0    1    2    3\n",
       "0  5.1  3.5  1.4  0.2\n",
       "1  4.9  3.0  1.4  0.2\n",
       "2  4.7  3.2  1.3  0.2\n",
       "3  4.6  3.1  1.5  0.2\n",
       "4  5.0  3.6  1.4  0.2"
      ]
     },
     "execution_count": 144,
     "metadata": {},
     "output_type": "execute_result"
    }
   ],
   "source": [
    "# Now, convert a sklearn dataset to a Pandas dataset\n",
    "df=pd.DataFrame(iris['data'])\n",
    "\n",
    "df.head()\n",
    "\n",
    "# df = pd.DataFrame(data= np.c_[iris['data'], iris['target']], columns= iris['feature_names'] + ['target'])\n",
    "# np.c_ is the numpy concatenate function, which is used to concat iris['data'] and iris['target']\n"
   ]
  },
  {
   "cell_type": "code",
   "execution_count": 157,
   "id": "aad65359",
   "metadata": {},
   "outputs": [
    {
     "name": "stdout",
     "output_type": "stream",
     "text": [
      "The inertia for 1 cluster(s) is 681.3706:\n",
      "The inertia for 2 cluster(s) is 152.34795176035792:\n",
      "The inertia for 3 cluster(s) is 78.85144142614601:\n",
      "The inertia for 4 cluster(s) is 57.25600931571815:\n",
      "The inertia for 5 cluster(s) is 46.44618205128205:\n",
      "The inertia for 6 cluster(s) is 39.066035353535355:\n",
      "The inertia for 7 cluster(s) is 34.299712121212124:\n",
      "The inertia for 8 cluster(s) is 30.064593073593077:\n",
      "The inertia for 9 cluster(s) is 27.90953699466057:\n"
     ]
    }
   ],
   "source": [
    "distortions = []\n",
    "\n",
    "for k in range(1,10):\n",
    "    kmeans = KMeans(n_clusters=k)\n",
    "    kmeans.fit(df)\n",
    "    distortions.append(kmeans.inertia_)\n",
    "    print(f\"The inertia for {k} cluster(s) is {kmeans.inertia_}:\")\n",
    "# The k-means algorithm tries to minimize distortion, \n",
    "# which is defined as the sum of the squared distances between each observation vector \n",
    "# and its dominating centroid. (wcss)"
   ]
  },
  {
   "cell_type": "code",
   "execution_count": 147,
   "id": "f20dc402",
   "metadata": {},
   "outputs": [
    {
     "data": {
      "image/png": "[encoded data removed]",
      "text/plain": [
       "<Figure size 1152x576 with 1 Axes>"
      ]
     },
     "metadata": {
      "needs_background": "light"
     },
     "output_type": "display_data"
    }
   ],
   "source": [
    "plt.figure(figsize=(16,8))\n",
    "plt.plot(range(1,10), distortions, 'bx-')\n",
    "plt.xlabel('k')\n",
    "plt.ylabel('Distortion')\n",
    "plt.title('The Elbow Method showing the optimal k')\n",
    "plt.show()"
   ]
  },
  {
   "cell_type": "code",
   "execution_count": 149,
   "id": "b4732ca6",
   "metadata": {},
   "outputs": [],
   "source": [
    "# from the figure above, we can obserce that 3 clusters seem to be optimal.\n",
    "# Now we can let n_clusters = 3"
   ]
  },
  {
   "cell_type": "code",
   "execution_count": 185,
   "id": "358a84c1",
   "metadata": {},
   "outputs": [],
   "source": [
    "x = df.iloc[:,[0,1,2,3]].values\n",
    "\n",
    "\n",
    "kmeans_new = KMeans(n_clusters = 3)\n",
    "kmeans_new.fit(df)\n",
    "y_kmeans_new = kmeans_new.predict(df) # notice: it is .predict()"
   ]
  },
  {
   "cell_type": "code",
   "execution_count": 191,
   "id": "b17bed9a",
   "metadata": {},
   "outputs": [
    {
     "data": {
      "text/plain": [
       "<matplotlib.legend.Legend at 0x7f815f3afee0>"
      ]
     },
     "execution_count": 191,
     "metadata": {},
     "output_type": "execute_result"
    },
    {
     "data": {
      "image/png": "[encoded data removed]",
      "text/plain": [
       "<Figure size 432x288 with 1 Axes>"
      ]
     },
     "metadata": {
      "needs_background": "light"
     },
     "output_type": "display_data"
    }
   ],
   "source": [
    "plt.scatter(x[y_kmeans_new == 0, 0],x[y_kmeans_new==0,1],s=100,c='yellow',label='Iris-Setosa')\n",
    "plt.scatter(x[y_kmeans_new == 1, 0],x[y_kmeans_new==1,1],s=100,c='blue',label='Iris-Versicolour')\n",
    "plt.scatter(x[y_kmeans_new == 2, 0],x[y_kmeans_new==2,1],s=100,c='green',label='Iris-VIrginica')\n",
    "\n",
    "# centers = kmeans_new.cluster_centers_\n",
    "\n",
    "plt.scatter(kmeans_new.cluster_centers_[:,0],kmeans_new.cluster_centers_[:,1],\n",
    "            s = 100, marker='x',c ='red',\n",
    "            label='Centroids')\n",
    "\n",
    "plt.legend()"
   ]
  },
  {
   "cell_type": "code",
   "execution_count": null,
   "id": "f319ea6c",
   "metadata": {},
   "outputs": [],
   "source": []
  }
 ],
 "metadata": {
  "kernelspec": {
   "display_name": "Python 3 (ipykernel)",
   "language": "python",
   "name": "python3"
  },
  "language_info": {
   "codemirror_mode": {
    "name": "ipython",
    "version": 3
   },
   "file_extension": ".py",
   "mimetype": "text/x-python",
   "name": "python",
   "nbconvert_exporter": "python",
   "pygments_lexer": "ipython3",
   "version": "3.9.7"
  }
 },
 "nbformat": 4,
 "nbformat_minor": 5
}
