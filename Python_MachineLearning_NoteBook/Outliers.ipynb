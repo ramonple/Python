{
 "cells": [
  {
   "cell_type": "markdown",
   "id": "7ca8906d",
   "metadata": {},
   "source": [
    "## 1. Detecting Outliers:\n",
    "\n",
    "a. Boxplot\n",
    "\n",
    "b. Z-score\n",
    "\n",
    "c. Inter Quantile Range (IQR)"
   ]
  },
  {
   "cell_type": "code",
   "execution_count": 24,
   "id": "61a9f510",
   "metadata": {},
   "outputs": [],
   "source": [
    "sample= [15, 101, 18, 7, 13, 16, 11, 21, 5, 15, 10, 9]"
   ]
  },
  {
   "cell_type": "markdown",
   "id": "451b964b",
   "metadata": {},
   "source": [
    "### a. Box plot"
   ]
  },
  {
   "cell_type": "code",
   "execution_count": 25,
   "id": "854c0d28",
   "metadata": {},
   "outputs": [
    {
     "data": {
      "text/plain": [
       "Text(0.5, 0, 'Sample')"
      ]
     },
     "execution_count": 25,
     "metadata": {},
     "output_type": "execute_result"
    },
    {
     "data": {
      "image/png": "[encoded data removed]",
      "text/plain": [
       "<Figure size 432x288 with 1 Axes>"
      ]
     },
     "metadata": {
      "needs_background": "light"
     },
     "output_type": "display_data"
    }
   ],
   "source": [
    "import matplotlib.pyplot as plt\n",
    "plt.boxplot(sample,vert = False)\n",
    "plt.title(\"Detecting outliers using Boxplot\")\n",
    "plt.xlabel(\"Sample\")"
   ]
  },
  {
   "cell_type": "markdown",
   "id": "bbffdf36",
   "metadata": {},
   "source": [
    "### b. Z - score\n",
    "\n",
    "Steps:\n",
    "\n",
    "a. loop through all the data points and compute the Z-score using the formula (Xi-mean)/std.\n",
    "\n",
    "b. define a threshold value of 3 and mark the datapoints whose absolute value of Z-score is greater than the threshold as outliers."
   ]
  },
  {
   "cell_type": "code",
   "execution_count": 26,
   "id": "b9276cb3",
   "metadata": {},
   "outputs": [
    {
     "name": "stdout",
     "output_type": "stream",
     "text": [
      "Outliers from Z-score method: [101]\n"
     ]
    }
   ],
   "source": [
    "import numpy as np\n",
    "\n",
    "outliers = []\n",
    "\n",
    "def detect_outliers_zscore(data):\n",
    "    thre = 3\n",
    "    mean = np.mean(data)\n",
    "    std = np.std(data)\n",
    "    for i in data:\n",
    "        z_score = (i - mean) / std\n",
    "        if np.abs(z_score) > thre:\n",
    "            outliers.append(i)\n",
    "    return outliers\n",
    "\n",
    "sample_outliers = detect_outliers_zscore(sample)\n",
    "\n",
    "print(\"Outliers from Z-score method:\", sample_outliers)"
   ]
  },
  {
   "cell_type": "markdown",
   "id": "ff68fb93",
   "metadata": {},
   "source": [
    "### c. IQR method\n",
    "\n",
    "Criteria: data points that lie 1.5 times of IQR above Q3 and below Q1 are outliers.\n",
    "\n",
    "\n",
    "Step:\n",
    "\n",
    "a. Sort the data in ascending order\n",
    "\n",
    "b. Calculate the 1st and 3rd quartiles (Q1, Q3)\n",
    "\n",
    "c. Compute IQR = Q3- Q1\n",
    "\n",
    "d. Compute the bounds. Lower bound = (Q1 - 1.5 * IQR), Upper bound = (Q3 + 1.5 * IQR)\n",
    "\n",
    "e. Loop through the values of the dataset and check for those who fall below and lower bound and above the upper bound"
   ]
  },
  {
   "cell_type": "code",
   "execution_count": 27,
   "id": "40beec95",
   "metadata": {},
   "outputs": [
    {
     "name": "stdout",
     "output_type": "stream",
     "text": [
      "Outliers from IQR method: [101]\n"
     ]
    }
   ],
   "source": [
    "outliers = []\n",
    "\n",
    "def detect_outliers_iqr(data):\n",
    "    data = sorted(data)\n",
    "    q1 = np.percentile(data,25)\n",
    "    q3 = np.percentile(data,75)\n",
    "    IQR = q3 - q1\n",
    "    lower_bound = q1 - 1.5 * IQR\n",
    "    upper_bound = q3 + 1.5 * IQR\n",
    "    for i in data:\n",
    "        if i < lower_bound or i > upper_bound:\n",
    "            outliers.append(i)\n",
    "    return outliers\n",
    "\n",
    "sample_outliers = detect_outliers_iqr(sample)\n",
    "print(\"Outliers from IQR method:\", sample_outliers)"
   ]
  },
  {
   "cell_type": "markdown",
   "id": "4fe010f7",
   "metadata": {},
   "source": [
    "## 2. Handling Outliers\n",
    "\n",
    "a. Removing outliers\n",
    "\n",
    "b. Quantile based flooring and capping\n",
    "\n",
    "c. Mean/ Median imputation"
   ]
  },
  {
   "cell_type": "markdown",
   "id": "0ffdf658",
   "metadata": {},
   "source": [
    "### a. Removing Outliers"
   ]
  },
  {
   "cell_type": "code",
   "execution_count": 28,
   "id": "f0d48eea",
   "metadata": {},
   "outputs": [
    {
     "name": "stdout",
     "output_type": "stream",
     "text": [
      "[ 15 101  18   7  13  16  11  21   5  15  10   9]\n"
     ]
    }
   ],
   "source": [
    "for i in sample_outliers:\n",
    "    a = np.delete(sample, np.where(sample == i))\n",
    "    \n",
    "print(a)\n",
    "\n",
    "# np.delete(arr, obj, axis = None)\n",
    "# arr: input array\n",
    "# obj: indicate of sub-arrays\n",
    "# the axis along which to delte. axis = None is for flattened array"
   ]
  },
  {
   "cell_type": "markdown",
   "id": "dd6b1ed0",
   "metadata": {},
   "source": [
    "### b. Quantile based flooring and capping\n",
    "\n",
    "In this technique, the outlier is capped at a certain value above the 90th percentile value or floored at a factor below the 10th percentile value."
   ]
  },
  {
   "cell_type": "code",
   "execution_count": 29,
   "id": "90abe1d2",
   "metadata": {},
   "outputs": [
    {
     "name": "stdout",
     "output_type": "stream",
     "text": [
      "New array:  [15.  20.7 18.   7.2 13.  16.  11.  20.7  7.2 15.  10.   9. ]\n"
     ]
    }
   ],
   "source": [
    "tenth_percentile = np.percentile(sample,10)\n",
    "ninetieth_percentile = np.percentile(sample,90)\n",
    "\n",
    "# update sample for the first time: replace all values lower than 10%. new dataset to b\n",
    "b = np.where(sample < tenth_percentile, tenth_percentile, sample)\n",
    "\n",
    "# update the new dataset b. This time, replace all values in b > 90% of b to 90%\n",
    "b = np.where(b > ninetieth_percentile, ninetieth_percentile, b )\n",
    "\n",
    "print(\"New array: \", b)\n",
    "# np.where(condition,x,y)\n",
    "# returns elements chosen from x or y depending on condition"
   ]
  },
  {
   "cell_type": "markdown",
   "id": "3b06524c",
   "metadata": {},
   "source": [
    "### c. Mean / Median Imputation\n",
    "As the mean value is highly influenced by the outliers, it is advised to replace the outliers with the median value."
   ]
  },
  {
   "cell_type": "code",
   "execution_count": 47,
   "id": "414dc0af",
   "metadata": {},
   "outputs": [
    {
     "name": "stdout",
     "output_type": "stream",
     "text": [
      "[15. 14. 18.  7. 13. 16. 11. 21.  5. 15. 10.  9.]\n"
     ]
    }
   ],
   "source": [
    "median = np.median(sample)\n",
    "\n",
    "# MUST convert the list into np.array. Or we will not detect the outliers in the loop\n",
    "sample_outliers = np.array(sample_outliers)\n",
    "\n",
    "for i in sample_outliers:\n",
    "    c = np.where( sample == i, median, sample)\n",
    "    \n",
    "print(c)"
   ]
  },
  {
   "cell_type": "code",
   "execution_count": 48,
   "id": "4cdc6eae",
   "metadata": {},
   "outputs": [
    {
     "data": {
      "text/plain": [
       "Text(0.5, 0, 'Sample')"
      ]
     },
     "execution_count": 48,
     "metadata": {},
     "output_type": "execute_result"
    },
    {
     "data": {
      "image/png": "[encoded data removed]",
      "text/plain": [
       "<Figure size 432x288 with 1 Axes>"
      ]
     },
     "metadata": {
      "needs_background": "light"
     },
     "output_type": "display_data"
    }
   ],
   "source": [
    "plt.boxplot(c, vert = False)\n",
    "plt.title(\"Boxplot of the sample after treating the outliers\")\n",
    "plt.xlabel(\"Sample\")"
   ]
  },
  {
   "cell_type": "code",
   "execution_count": null,
   "id": "b564633c",
   "metadata": {},
   "outputs": [],
   "source": []
  }
 ],
 "metadata": {
  "kernelspec": {
   "display_name": "Python 3 (ipykernel)",
   "language": "python",
   "name": "python3"
  },
  "language_info": {
   "codemirror_mode": {
    "name": "ipython",
    "version": 3
   },
   "file_extension": ".py",
   "mimetype": "text/x-python",
   "name": "python",
   "nbconvert_exporter": "python",
   "pygments_lexer": "ipython3",
   "version": "3.9.7"
  }
 },
 "nbformat": 4,
 "nbformat_minor": 5
}
