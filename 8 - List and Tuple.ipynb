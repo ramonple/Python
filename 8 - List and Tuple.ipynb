{
 "cells": [
  {
   "cell_type": "markdown",
   "id": "3c903495",
   "metadata": {},
   "source": [
    "### find with index"
   ]
  },
  {
   "cell_type": "code",
   "execution_count": 6,
   "id": "6b35da10",
   "metadata": {},
   "outputs": [
    {
     "name": "stdout",
     "output_type": "stream",
     "text": [
      "Tom\n",
      "Lily\n",
      "Jack\n"
     ]
    }
   ],
   "source": [
    "name_list=['Tom','Lily','Jack']\n",
    "print(name_list[0])\n",
    "print(name_list[1])\n",
    "print(name_list[2])\n",
    "## notice: it should be '[]' rather than '()'"
   ]
  },
  {
   "cell_type": "markdown",
   "id": "53b89e7b",
   "metadata": {},
   "source": [
    "### find with functions"
   ]
  },
  {
   "cell_type": "code",
   "execution_count": 10,
   "id": "24ca2798",
   "metadata": {},
   "outputs": [
    {
     "name": "stdout",
     "output_type": "stream",
     "text": [
      "1\n"
     ]
    },
    {
     "ename": "ValueError",
     "evalue": "'Lilys' is not in list",
     "output_type": "error",
     "traceback": [
      "\u001b[0;31m---------------------------------------------------------------------------\u001b[0m",
      "\u001b[0;31mValueError\u001b[0m                                Traceback (most recent call last)",
      "\u001b[0;32m/var/folders/n0/rr0bk9yn2d156tv_qkmj0d_m0000gn/T/ipykernel_61963/838712457.py\u001b[0m in \u001b[0;36m<module>\u001b[0;34m\u001b[0m\n\u001b[1;32m      1\u001b[0m \u001b[0mname_list\u001b[0m \u001b[0;34m=\u001b[0m \u001b[0;34m[\u001b[0m\u001b[0;34m'Tom'\u001b[0m\u001b[0;34m,\u001b[0m\u001b[0;34m'Lily'\u001b[0m\u001b[0;34m,\u001b[0m\u001b[0;34m'Jack'\u001b[0m\u001b[0;34m]\u001b[0m\u001b[0;34m\u001b[0m\u001b[0;34m\u001b[0m\u001b[0m\n\u001b[1;32m      2\u001b[0m \u001b[0mprint\u001b[0m\u001b[0;34m(\u001b[0m\u001b[0mname_list\u001b[0m\u001b[0;34m.\u001b[0m\u001b[0mindex\u001b[0m\u001b[0;34m(\u001b[0m\u001b[0;34m'Lily'\u001b[0m\u001b[0;34m,\u001b[0m\u001b[0;36m0\u001b[0m\u001b[0;34m,\u001b[0m\u001b[0;36m2\u001b[0m\u001b[0;34m)\u001b[0m\u001b[0;34m)\u001b[0m\u001b[0;34m\u001b[0m\u001b[0;34m\u001b[0m\u001b[0m\n\u001b[0;32m----> 3\u001b[0;31m \u001b[0mprint\u001b[0m\u001b[0;34m(\u001b[0m\u001b[0mname_list\u001b[0m\u001b[0;34m.\u001b[0m\u001b[0mindex\u001b[0m\u001b[0;34m(\u001b[0m\u001b[0;34m'Lilys'\u001b[0m\u001b[0;34m,\u001b[0m\u001b[0;36m0\u001b[0m\u001b[0;34m,\u001b[0m\u001b[0;36m2\u001b[0m\u001b[0;34m)\u001b[0m\u001b[0;34m)\u001b[0m\u001b[0;34m\u001b[0m\u001b[0;34m\u001b[0m\u001b[0m\n\u001b[0m",
      "\u001b[0;31mValueError\u001b[0m: 'Lilys' is not in list"
     ]
    }
   ],
   "source": [
    "name_list = ['Tom','Lily','Jack']\n",
    "print(name_list.index('Lily',0,2))\n",
    "print(name_list.index('Lilys',0,2))"
   ]
  },
  {
   "cell_type": "code",
   "execution_count": 11,
   "id": "dee4b868",
   "metadata": {},
   "outputs": [
    {
     "name": "stdout",
     "output_type": "stream",
     "text": [
      "1\n"
     ]
    }
   ],
   "source": [
    "name_list = ['Tom','Lily','Jack']\n",
    "print(name_list.count('Lily'))"
   ]
  },
  {
   "cell_type": "code",
   "execution_count": 12,
   "id": "7ab8ecfe",
   "metadata": {},
   "outputs": [
    {
     "name": "stdout",
     "output_type": "stream",
     "text": [
      "3\n"
     ]
    }
   ],
   "source": [
    "name_list = ['Tom','Lily','Jack']\n",
    "print(len(name_list))"
   ]
  },
  {
   "cell_type": "markdown",
   "id": "693853b1",
   "metadata": {},
   "source": [
    "### Determine"
   ]
  },
  {
   "cell_type": "code",
   "execution_count": 14,
   "id": "231370b4",
   "metadata": {},
   "outputs": [
    {
     "data": {
      "text/plain": [
       "False"
      ]
     },
     "execution_count": 14,
     "metadata": {},
     "output_type": "execute_result"
    }
   ],
   "source": [
    "name_list = ['Tom','Lily','Jack']\n",
    "\n",
    "# in \n",
    "'Tom' in name_list # True\n",
    "\n",
    "#not  \n",
    "'Tom' not in name_list  # False\n"
   ]
  },
  {
   "cell_type": "code",
   "execution_count": 17,
   "id": "e79fe20f",
   "metadata": {},
   "outputs": [
    {
     "name": "stdout",
     "output_type": "stream",
     "text": [
      "please input your username: Tom\n",
      "username Tom is already used\n"
     ]
    }
   ],
   "source": [
    "name_list = ['Tom','Lily','Jack']\n",
    "name = input('please input your username: ')\n",
    "\n",
    "if name in name_list:\n",
    "   print(f'username {name} is already used')\n",
    "else:\n",
    "  print(f'your username {name} can be used')"
   ]
  },
  {
   "cell_type": "markdown",
   "id": "240ea16f",
   "metadata": {},
   "source": [
    "## add information to list"
   ]
  },
  {
   "cell_type": "markdown",
   "id": "27336e57",
   "metadata": {},
   "source": [
    "### append"
   ]
  },
  {
   "cell_type": "code",
   "execution_count": 24,
   "id": "46dd05fe",
   "metadata": {},
   "outputs": [
    {
     "name": "stdout",
     "output_type": "stream",
     "text": [
      "['Tom', 'Lily', 'Jack', 'Jenne']\n",
      "['Tom', 'Lily', 'Jack', 'Jenne', ['11', '22']]\n"
     ]
    }
   ],
   "source": [
    "name_list = ['Tom','Lily','Jack']\n",
    "### apped\n",
    "name_list.append('Jenne')\n",
    "print(name_list) ### list is changable data type\n",
    "name_list.append(['11','22'])\n",
    "print(name_list) "
   ]
  },
  {
   "cell_type": "markdown",
   "id": "823c1e22",
   "metadata": {},
   "source": [
    "### extend"
   ]
  },
  {
   "cell_type": "code",
   "execution_count": 28,
   "id": "ab366542",
   "metadata": {},
   "outputs": [
    {
     "name": "stdout",
     "output_type": "stream",
     "text": [
      "['Tom', 'Lily', 'Jack', 'J', 'e', 'n', 'n', 'e']\n",
      "['Tom', 'Lily', 'Jack', 'J', 'e', 'n', 'n', 'e', 'Jenee', 'ss']\n"
     ]
    }
   ],
   "source": [
    "name_list = ['Tom','Lily','Jack']\n",
    "name_list.extend('Jenne')  # ['Tom', 'Lily', 'Jack', 'J', 'e', 'n', 'n', 'e']\n",
    "print(name_list)  \n",
    "name_list.extend(['Jenee','ss']) # ['Tom', 'Lily', 'Jack', 'J', 'e', 'n', 'n', 'e', 'Jenee', 'ss']\n",
    "print(name_list)"
   ]
  },
  {
   "cell_type": "markdown",
   "id": "b3857809",
   "metadata": {},
   "source": [
    "### insert -- add information into particular position"
   ]
  },
  {
   "cell_type": "code",
   "execution_count": 30,
   "id": "3ec6c58e",
   "metadata": {},
   "outputs": [
    {
     "name": "stdout",
     "output_type": "stream",
     "text": [
      "['Tom', 'aaa', 'Lily', 'Jack']\n"
     ]
    }
   ],
   "source": [
    "# listname.insert(insert postion,insert content)\n",
    "name_list = ['Tom','Lily','Jack']\n",
    "name_list.insert(1,'aaa')\n",
    "print(name_list)"
   ]
  },
  {
   "cell_type": "markdown",
   "id": "90544540",
   "metadata": {},
   "source": [
    "## Delete information from list"
   ]
  },
  {
   "cell_type": "markdown",
   "id": "c5275bba",
   "metadata": {},
   "source": [
    "### del"
   ]
  },
  {
   "cell_type": "code",
   "execution_count": 33,
   "id": "42e9a8a6",
   "metadata": {},
   "outputs": [
    {
     "name": "stdout",
     "output_type": "stream",
     "text": [
      "['Lily', 'Jack']\n"
     ]
    }
   ],
   "source": [
    "name_list = ['Tom','Lily','Jack']\n",
    "# del name_list  = del(name_list)\n",
    "del name_list[0]\n",
    "print(name_list)"
   ]
  },
  {
   "cell_type": "markdown",
   "id": "aefe2956",
   "metadata": {},
   "source": [
    "### pop \n",
    "- delete the information with particular index. if no index is defined, the last one will be deleted. POP will return the deleted one"
   ]
  },
  {
   "cell_type": "code",
   "execution_count": 40,
   "id": "08269c2b",
   "metadata": {},
   "outputs": [
    {
     "name": "stdout",
     "output_type": "stream",
     "text": [
      "Lily\n",
      "['Tom', 'Jack']\n"
     ]
    }
   ],
   "source": [
    "name_list = ['Tom','Lily','Jack']\n",
    "del_name = name_list.pop(1)\n",
    "print(del_name)\n",
    "print(name_list)"
   ]
  },
  {
   "cell_type": "markdown",
   "id": "94fa619b",
   "metadata": {},
   "source": [
    "### remove"
   ]
  },
  {
   "cell_type": "code",
   "execution_count": 42,
   "id": "70acccc6",
   "metadata": {},
   "outputs": [
    {
     "name": "stdout",
     "output_type": "stream",
     "text": [
      "['Lily', 'Jack']\n"
     ]
    }
   ],
   "source": [
    "name_list = ['Tom','Lily','Jack']\n",
    "name_list.remove('Tom')\n",
    "print(name_list)"
   ]
  },
  {
   "cell_type": "markdown",
   "id": "26087abf",
   "metadata": {},
   "source": [
    "### clear"
   ]
  },
  {
   "cell_type": "code",
   "execution_count": 43,
   "id": "87ca3ab0",
   "metadata": {},
   "outputs": [
    {
     "name": "stdout",
     "output_type": "stream",
     "text": [
      "[]\n"
     ]
    }
   ],
   "source": [
    "name_list.clear()\n",
    "print(name_list)"
   ]
  },
  {
   "cell_type": "markdown",
   "id": "1c3e2754",
   "metadata": {},
   "source": [
    "### Change"
   ]
  },
  {
   "cell_type": "markdown",
   "id": "7c0ba0f6",
   "metadata": {},
   "source": [
    "### change the index"
   ]
  },
  {
   "cell_type": "code",
   "execution_count": 3,
   "id": "d7abc64d",
   "metadata": {},
   "outputs": [
    {
     "name": "stdout",
     "output_type": "stream",
     "text": [
      "['Timmy', 'Lily', 'Jack']\n"
     ]
    }
   ],
   "source": [
    "name_list = ['Tom','Lily','Jack']\n",
    "name_list[0] ='Timmy'\n",
    "print(name_list)"
   ]
  },
  {
   "cell_type": "markdown",
   "id": "3dc8fe10",
   "metadata": {},
   "source": [
    "### Reverse - change the sequence"
   ]
  },
  {
   "cell_type": "code",
   "execution_count": 8,
   "id": "409a896e",
   "metadata": {},
   "outputs": [
    {
     "name": "stdout",
     "output_type": "stream",
     "text": [
      "[3, 6, 5, 2, 1]\n"
     ]
    }
   ],
   "source": [
    "list1=[1,2,5,6,3]\n",
    "list1.reverse()\n",
    "print(list1)"
   ]
  },
  {
   "cell_type": "markdown",
   "id": "be829da7",
   "metadata": {},
   "source": [
    "### sort"
   ]
  },
  {
   "cell_type": "code",
   "execution_count": 9,
   "id": "834d5eab",
   "metadata": {},
   "outputs": [
    {
     "name": "stdout",
     "output_type": "stream",
     "text": [
      "[1, 2, 3, 5, 6]\n"
     ]
    }
   ],
   "source": [
    "list1=[1,2,5,6,3]\n",
    "list1.sort()\n",
    "print(list1)"
   ]
  },
  {
   "cell_type": "code",
   "execution_count": 10,
   "id": "e5d8d492",
   "metadata": {},
   "outputs": [
    {
     "name": "stdout",
     "output_type": "stream",
     "text": [
      "[6, 5, 3, 2, 1]\n"
     ]
    }
   ],
   "source": [
    "list1=[1,2,5,6,3]\n",
    "list1.sort(key=None,reverse=True)\n",
    "print(list1)"
   ]
  },
  {
   "cell_type": "markdown",
   "id": "b09111d9",
   "metadata": {},
   "source": [
    "### Copy "
   ]
  },
  {
   "cell_type": "code",
   "execution_count": 12,
   "id": "157e7f55",
   "metadata": {},
   "outputs": [
    {
     "name": "stdout",
     "output_type": "stream",
     "text": [
      "['Tom', 'Lily', 'Jack']\n"
     ]
    }
   ],
   "source": [
    "name_list = ['Tom','Lily','Jack']\n",
    "name_list_copy=name_list.copy()\n",
    "print(name_list_copy)"
   ]
  },
  {
   "cell_type": "markdown",
   "id": "f2cc58bb",
   "metadata": {},
   "source": [
    "### while (for list)"
   ]
  },
  {
   "cell_type": "code",
   "execution_count": 13,
   "id": "775d5347",
   "metadata": {},
   "outputs": [
    {
     "name": "stdout",
     "output_type": "stream",
     "text": [
      "Tom\n",
      "Lily\n",
      "Jack\n"
     ]
    }
   ],
   "source": [
    "name_list = ['Tom','Lily','Jack']\n",
    "i = 0 \n",
    "while i < len(name_list):\n",
    "      print(name_list[i])\n",
    "      i+=1"
   ]
  },
  {
   "cell_type": "markdown",
   "id": "bb432c9f",
   "metadata": {},
   "source": [
    "### For (for list)"
   ]
  },
  {
   "cell_type": "code",
   "execution_count": 14,
   "id": "da0b3198",
   "metadata": {},
   "outputs": [
    {
     "name": "stdout",
     "output_type": "stream",
     "text": [
      "Tom\n",
      "Lily\n",
      "Jack\n"
     ]
    }
   ],
   "source": [
    "name_list = ['Tom','Lily','Jack']\n",
    "\n",
    "for i in name_list:  # i represents each 'xx'\n",
    "    print(i)"
   ]
  },
  {
   "cell_type": "markdown",
   "id": "2de94aca",
   "metadata": {},
   "source": [
    "### Inner List"
   ]
  },
  {
   "cell_type": "code",
   "execution_count": 16,
   "id": "b7bb2834",
   "metadata": {},
   "outputs": [
    {
     "name": "stdout",
     "output_type": "stream",
     "text": [
      "['yesterday', 'today', 'tomorrow']\n",
      "yesterday\n"
     ]
    }
   ],
   "source": [
    "name_list = [ ['1','2','3'],['Tom','Lily','Jack'],['yesterday','today','tomorrow']]\n",
    "print(name_list[2])\n",
    "print(name_list[2][0]) # find the first one in the third inner list"
   ]
  },
  {
   "cell_type": "markdown",
   "id": "1f24bcfb",
   "metadata": {},
   "source": [
    "### IMPORTANT!!! application: randomly allocate office rooms"
   ]
  },
  {
   "cell_type": "code",
   "execution_count": 51,
   "id": "840709aa",
   "metadata": {},
   "outputs": [
    {
     "name": "stdout",
     "output_type": "stream",
     "text": [
      "[['b', 'd', 'f', 'g', 'h'], ['a', 'c'], ['e']]\n"
     ]
    }
   ],
   "source": [
    "# eight teachers, three office rooms, randomly allocate each teacher\n",
    "teachers=['a','b','c','d','e','f','g','h']\n",
    "offices = [[],[],[]] ; \n",
    "\n",
    "import random\n",
    "\n",
    "for name in teachers:\n",
    "                           # add information into list: append, extend,insert -> should use append\n",
    "    num=random.randint(0,2)\n",
    "    offices[num].append(name)\n",
    "print(offices)"
   ]
  },
  {
   "cell_type": "code",
   "execution_count": 50,
   "id": "aa61c122",
   "metadata": {},
   "outputs": [
    {
     "name": "stdout",
     "output_type": "stream",
     "text": [
      "number of teachers in office is 4\n",
      "number of teachers in office is 1\n",
      "number of teachers in office is 3\n"
     ]
    }
   ],
   "source": [
    "# print the number of teachers in each office\n",
    "teachers=['a','b','c','d','e','f','g','h']\n",
    "offices = [[],[],[]] ;\n",
    "\n",
    "import random\n",
    "\n",
    "for name in teachers:\n",
    "    num=random.randint(0,2)\n",
    "    offices[num].append(name)\n",
    "    \n",
    "\n",
    "for office in offices:\n",
    "    print(f'number of teachers in office is {len(office)}')\n",
    "\n",
    "    # print teacher's name in each office\n"
   ]
  },
  {
   "cell_type": "code",
   "execution_count": 6,
   "id": "21bd8174",
   "metadata": {},
   "outputs": [
    {
     "name": "stdout",
     "output_type": "stream",
     "text": [
      "number of teachers in office is 4\n",
      "number of teachers in office is 3\n",
      "number of teachers in office is 1\n"
     ]
    }
   ],
   "source": [
    "teachers=['a','b','c','d','e','f','g','h']\n",
    "offices = [[],[],[]] ;\n",
    "\n",
    "import random\n",
    "\n",
    "for name in teachers:\n",
    "    num=random.randint(0,2)\n",
    "    offices[num].append(name)\n",
    "\n",
    "for office in offices:\n",
    "    print(f'number of teachers in office is {len(office)}')"
   ]
  },
  {
   "cell_type": "code",
   "execution_count": 21,
   "id": "e540c59f",
   "metadata": {},
   "outputs": [
    {
     "name": "stdout",
     "output_type": "stream",
     "text": [
      " office 1 has 2 teachers, they are: \n",
      "d\n",
      "e\n",
      " office 2 has 3 teachers, they are: \n",
      "a\n",
      "f\n",
      "h\n",
      " office 3 has 3 teachers, they are: \n",
      "b\n",
      "c\n",
      "g\n"
     ]
    }
   ],
   "source": [
    "teachers=['a','b','c','d','e','f','g','h']\n",
    "offices = [[],[],[]] ;\n",
    "\n",
    "import random\n",
    "\n",
    "for name in teachers:\n",
    "    num=random.randint(0,2)\n",
    "    offices[num].append(name)\n",
    "    \n",
    "i = 1\n",
    "\n",
    "for office in offices:\n",
    "    print(f' office {i} has {len(office)} teachers, they are: ')\n",
    "    \n",
    "    for name in office:\n",
    "        print(name)\n",
    "    i+=1\n",
    "    # print teacher's name in each office"
   ]
  },
  {
   "cell_type": "markdown",
   "id": "af26f6d0",
   "metadata": {},
   "source": [
    "## tuple"
   ]
  },
  {
   "cell_type": "markdown",
   "id": "79584f0c",
   "metadata": {},
   "source": [
    "when we want to save several datasets, and this data cannot be changed.\n",
    "\n",
    "What should we do?\n",
    "\n",
    "The data in LIST can be changed.\n",
    "\n",
    "The data in tuple cannot be changed."
   ]
  },
  {
   "cell_type": "code",
   "execution_count": 24,
   "id": "b9a264ad",
   "metadata": {},
   "outputs": [
    {
     "data": {
      "text/plain": [
       "tuple"
      ]
     },
     "execution_count": 24,
     "metadata": {},
     "output_type": "execute_result"
    }
   ],
   "source": [
    "t1=(10,20,30)\n",
    "type(t1)"
   ]
  },
  {
   "cell_type": "code",
   "execution_count": 25,
   "id": "671b30db",
   "metadata": {},
   "outputs": [
    {
     "data": {
      "text/plain": [
       "int"
      ]
     },
     "execution_count": 25,
     "metadata": {},
     "output_type": "execute_result"
    }
   ],
   "source": [
    "t2=(10)\n",
    "type(t2)"
   ]
  },
  {
   "cell_type": "code",
   "execution_count": 26,
   "id": "c619de8d",
   "metadata": {},
   "outputs": [
    {
     "data": {
      "text/plain": [
       "tuple"
      ]
     },
     "execution_count": 26,
     "metadata": {},
     "output_type": "execute_result"
    }
   ],
   "source": [
    "t3=(10,)\n",
    "type(t2)"
   ]
  },
  {
   "cell_type": "code",
   "execution_count": 27,
   "id": "db491797",
   "metadata": {},
   "outputs": [
    {
     "data": {
      "text/plain": [
       "str"
      ]
     },
     "execution_count": 27,
     "metadata": {},
     "output_type": "execute_result"
    }
   ],
   "source": [
    "t4=('aaaa')\n",
    "type(t4)"
   ]
  },
  {
   "cell_type": "code",
   "execution_count": 28,
   "id": "22188921",
   "metadata": {},
   "outputs": [
    {
     "data": {
      "text/plain": [
       "tuple"
      ]
     },
     "execution_count": 28,
     "metadata": {},
     "output_type": "execute_result"
    }
   ],
   "source": [
    "t5=('aaaa',)\n",
    "type(t5)"
   ]
  },
  {
   "cell_type": "code",
   "execution_count": 29,
   "id": "2fb8df31",
   "metadata": {},
   "outputs": [
    {
     "name": "stdout",
     "output_type": "stream",
     "text": [
      "aa\n"
     ]
    }
   ],
   "source": [
    "tuple1=('aa','bb','cc','dd')\n",
    "print(tuple1[0])"
   ]
  },
  {
   "cell_type": "code",
   "execution_count": 31,
   "id": "25cb651c",
   "metadata": {},
   "outputs": [
    {
     "data": {
      "text/plain": [
       "1"
      ]
     },
     "execution_count": 31,
     "metadata": {},
     "output_type": "execute_result"
    }
   ],
   "source": [
    "tuple1=('aa','bb','cc','dd')\n",
    "tuple1.index('bb')"
   ]
  },
  {
   "cell_type": "code",
   "execution_count": 32,
   "id": "d5054f33",
   "metadata": {},
   "outputs": [
    {
     "data": {
      "text/plain": [
       "4"
      ]
     },
     "execution_count": 32,
     "metadata": {},
     "output_type": "execute_result"
    }
   ],
   "source": [
    "tuple1=('aa','bb','cc','dd')\n",
    "len(tuple1)"
   ]
  },
  {
   "cell_type": "code",
   "execution_count": 34,
   "id": "59a2edb6",
   "metadata": {},
   "outputs": [
    {
     "data": {
      "text/plain": [
       "['cc', 'dd']"
      ]
     },
     "execution_count": 34,
     "metadata": {},
     "output_type": "execute_result"
    }
   ],
   "source": [
    "t1=('aa','bb','cc','dd')\n",
    "t2=('aa','bb',['cc','dd'])\n",
    "t2[2]"
   ]
  },
  {
   "cell_type": "code",
   "execution_count": 36,
   "id": "38b36487",
   "metadata": {},
   "outputs": [
    {
     "data": {
      "text/plain": [
       "'cc'"
      ]
     },
     "execution_count": 36,
     "metadata": {},
     "output_type": "execute_result"
    }
   ],
   "source": [
    "t1=('aa','bb','cc','dd')\n",
    "t2=('aa','bb',['cc','dd'])\n",
    "t2[2][0]"
   ]
  },
  {
   "cell_type": "markdown",
   "id": "45e90824",
   "metadata": {},
   "source": [
    "### we can change the list in the tuple"
   ]
  },
  {
   "cell_type": "code",
   "execution_count": 37,
   "id": "722a8f8c",
   "metadata": {},
   "outputs": [
    {
     "name": "stdout",
     "output_type": "stream",
     "text": [
      "('aa', 'bb', ['Tom', 'dd'])\n"
     ]
    }
   ],
   "source": [
    "t1=('aa','bb','cc','dd')\n",
    "t2=('aa','bb',['cc','dd'])\n",
    "t2[2][0] ='Tom'\n",
    "print(t2)"
   ]
  }
 ],
 "metadata": {
  "kernelspec": {
   "display_name": "Python 3 (ipykernel)",
   "language": "python",
   "name": "python3"
  },
  "language_info": {
   "codemirror_mode": {
    "name": "ipython",
    "version": 3
   },
   "file_extension": ".py",
   "mimetype": "text/x-python",
   "name": "python",
   "nbconvert_exporter": "python",
   "pygments_lexer": "ipython3",
   "version": "3.9.7"
  }
 },
 "nbformat": 4,
 "nbformat_minor": 5
}
