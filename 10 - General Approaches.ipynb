{
 "cells": [
  {
   "cell_type": "markdown",
   "id": "1d7df54c",
   "metadata": {},
   "source": [
    "### +\n",
    "Join"
   ]
  },
  {
   "cell_type": "code",
   "execution_count": 6,
   "id": "1388a5b5",
   "metadata": {},
   "outputs": [
    {
     "name": "stdout",
     "output_type": "stream",
     "text": [
      "aabb\n",
      "[1, 2, 10, 20]\n",
      "(0, 20, 9, 7)\n"
     ]
    }
   ],
   "source": [
    "str1='aa'\n",
    "str2='bb'\n",
    "print(str1+str2)\n",
    "\n",
    "list1=[1,2]\n",
    "list2=[10,20]\n",
    "print(list1+list2)\n",
    "\n",
    "t1=(0,20)\n",
    "t2=(9,7)\n",
    "print(t1+t2)"
   ]
  },
  {
   "cell_type": "code",
   "execution_count": 7,
   "id": "ceea8644",
   "metadata": {
    "scrolled": true
   },
   "outputs": [
    {
     "ename": "TypeError",
     "evalue": "unsupported operand type(s) for +: 'dict' and 'dict'",
     "output_type": "error",
     "traceback": [
      "\u001b[0;31m---------------------------------------------------------------------------\u001b[0m",
      "\u001b[0;31mTypeError\u001b[0m                                 Traceback (most recent call last)",
      "\u001b[0;32m/var/folders/n0/rr0bk9yn2d156tv_qkmj0d_m0000gn/T/ipykernel_13456/2432452719.py\u001b[0m in \u001b[0;36m<module>\u001b[0;34m\u001b[0m\n\u001b[1;32m      1\u001b[0m \u001b[0mdict1\u001b[0m\u001b[0;34m=\u001b[0m\u001b[0;34m{\u001b[0m\u001b[0;34m'anme'\u001b[0m\u001b[0;34m:\u001b[0m\u001b[0;34m'Tom'\u001b[0m\u001b[0;34m}\u001b[0m\u001b[0;34m\u001b[0m\u001b[0;34m\u001b[0m\u001b[0m\n\u001b[1;32m      2\u001b[0m \u001b[0mdict2\u001b[0m \u001b[0;34m=\u001b[0m\u001b[0;34m{\u001b[0m\u001b[0;34m'id'\u001b[0m\u001b[0;34m:\u001b[0m\u001b[0;36m1000\u001b[0m\u001b[0;34m}\u001b[0m\u001b[0;34m\u001b[0m\u001b[0;34m\u001b[0m\u001b[0m\n\u001b[0;32m----> 3\u001b[0;31m \u001b[0mprint\u001b[0m\u001b[0;34m(\u001b[0m\u001b[0mdict1\u001b[0m\u001b[0;34m+\u001b[0m\u001b[0mdict2\u001b[0m\u001b[0;34m)\u001b[0m\u001b[0;34m\u001b[0m\u001b[0;34m\u001b[0m\u001b[0m\n\u001b[0m",
      "\u001b[0;31mTypeError\u001b[0m: unsupported operand type(s) for +: 'dict' and 'dict'"
     ]
    }
   ],
   "source": [
    "dict1={'anme':'Tom'}\n",
    "dict2 ={'id':1000}\n",
    "print(dict1+dict2)"
   ]
  },
  {
   "cell_type": "markdown",
   "id": "ffeaaa51",
   "metadata": {},
   "source": [
    "### *\n",
    "copy"
   ]
  },
  {
   "cell_type": "code",
   "execution_count": 8,
   "id": "7082dec3",
   "metadata": {},
   "outputs": [
    {
     "name": "stdout",
     "output_type": "stream",
     "text": [
      "aaaaa\n",
      "[1, 2, 1, 2, 1, 2, 1, 2, 1, 2]\n",
      "(0, 20, 0, 20, 0, 20, 0, 20, 0, 20)\n"
     ]
    }
   ],
   "source": [
    "str1='a'\n",
    "print(str1*5)\n",
    "\n",
    "list1=[1,2]\n",
    "print(list1*5)\n",
    "\n",
    "t1=(0,20)\n",
    "print(t1 * 5)"
   ]
  },
  {
   "cell_type": "code",
   "execution_count": 9,
   "id": "bdf68aad",
   "metadata": {},
   "outputs": [
    {
     "ename": "TypeError",
     "evalue": "unsupported operand type(s) for *: 'dict' and 'int'",
     "output_type": "error",
     "traceback": [
      "\u001b[0;31m---------------------------------------------------------------------------\u001b[0m",
      "\u001b[0;31mTypeError\u001b[0m                                 Traceback (most recent call last)",
      "\u001b[0;32m/var/folders/n0/rr0bk9yn2d156tv_qkmj0d_m0000gn/T/ipykernel_13456/94102307.py\u001b[0m in \u001b[0;36m<module>\u001b[0;34m\u001b[0m\n\u001b[1;32m      1\u001b[0m \u001b[0mdict1\u001b[0m\u001b[0;34m=\u001b[0m\u001b[0;34m{\u001b[0m\u001b[0;34m'anme'\u001b[0m\u001b[0;34m:\u001b[0m\u001b[0;34m'Tom'\u001b[0m\u001b[0;34m}\u001b[0m\u001b[0;34m\u001b[0m\u001b[0;34m\u001b[0m\u001b[0m\n\u001b[0;32m----> 2\u001b[0;31m \u001b[0mprint\u001b[0m\u001b[0;34m(\u001b[0m\u001b[0mdict1\u001b[0m\u001b[0;34m*\u001b[0m\u001b[0;36m5\u001b[0m\u001b[0;34m)\u001b[0m\u001b[0;34m\u001b[0m\u001b[0;34m\u001b[0m\u001b[0m\n\u001b[0m",
      "\u001b[0;31mTypeError\u001b[0m: unsupported operand type(s) for *: 'dict' and 'int'"
     ]
    }
   ],
   "source": [
    "dict1={'anme':'Tom'}\n",
    "print(dict1*5)"
   ]
  },
  {
   "cell_type": "markdown",
   "id": "e493bf40",
   "metadata": {},
   "source": [
    "### in\n",
    "whether exists"
   ]
  },
  {
   "cell_type": "code",
   "execution_count": 19,
   "id": "c1d93990",
   "metadata": {},
   "outputs": [
    {
     "name": "stdout",
     "output_type": "stream",
     "text": [
      "True\n",
      "False\n",
      "--------------\n",
      "True\n",
      "False\n",
      "--------------\n",
      "True\n",
      "False\n",
      "--------------\n",
      "True\n",
      "True\n",
      "False\n",
      "True\n"
     ]
    }
   ],
   "source": [
    "str1='abcd'\n",
    "list1=[10,20,30,40]\n",
    "t1=(100,200,300,400)\n",
    "dict1={'name':'Tom','age':30}\n",
    "\n",
    "print('a' in str1)\n",
    "print('a' not in str1)\n",
    "print('--------------')\n",
    "print(10 in list1)\n",
    "print(100 in list1)\n",
    "print('--------------')\n",
    "print(100 in t1)\n",
    "print(300 not in t1)\n",
    "print('--------------')\n",
    "print('name' in dict1)\n",
    "print('name' in dict1.keys())\n",
    "print('Tom' in dict1) # we can only find the key, not the value\n",
    "print('Tom' in dict1.values())"
   ]
  },
  {
   "cell_type": "markdown",
   "id": "e635a6f6",
   "metadata": {},
   "source": [
    "### len( )"
   ]
  },
  {
   "cell_type": "code",
   "execution_count": 23,
   "id": "4b366f3d",
   "metadata": {},
   "outputs": [
    {
     "name": "stdout",
     "output_type": "stream",
     "text": [
      "8\n",
      "4\n",
      "4\n",
      "2\n"
     ]
    }
   ],
   "source": [
    "str1='asdfbsdf'\n",
    "print(len(str1))\n",
    "\n",
    "list1=[10,20,30,40]\n",
    "print(len(list1))\n",
    "\n",
    "t1=(100,200,300,400)\n",
    "print(len(t1))\n",
    "\n",
    "dict1={'name':'Tom','age':30}\n",
    "print(len(dict1))"
   ]
  },
  {
   "cell_type": "markdown",
   "id": "e934b5ff",
   "metadata": {},
   "source": [
    "### del"
   ]
  },
  {
   "cell_type": "code",
   "execution_count": 28,
   "id": "a9707fa9",
   "metadata": {
    "scrolled": false
   },
   "outputs": [
    {
     "ename": "NameError",
     "evalue": "name 'str1' is not defined",
     "output_type": "error",
     "traceback": [
      "\u001b[0;31m---------------------------------------------------------------------------\u001b[0m",
      "\u001b[0;31mNameError\u001b[0m                                 Traceback (most recent call last)",
      "\u001b[0;32m/var/folders/n0/rr0bk9yn2d156tv_qkmj0d_m0000gn/T/ipykernel_13456/2350249966.py\u001b[0m in \u001b[0;36m<module>\u001b[0;34m\u001b[0m\n\u001b[1;32m      1\u001b[0m \u001b[0mstr1\u001b[0m\u001b[0;34m=\u001b[0m\u001b[0;34m'asdfbsdf'\u001b[0m\u001b[0;34m\u001b[0m\u001b[0;34m\u001b[0m\u001b[0m\n\u001b[1;32m      2\u001b[0m \u001b[0;32mdel\u001b[0m \u001b[0mstr1\u001b[0m\u001b[0;34m\u001b[0m\u001b[0;34m\u001b[0m\u001b[0m\n\u001b[0;32m----> 3\u001b[0;31m \u001b[0mprint\u001b[0m\u001b[0;34m(\u001b[0m\u001b[0mstr1\u001b[0m\u001b[0;34m)\u001b[0m\u001b[0;34m\u001b[0m\u001b[0;34m\u001b[0m\u001b[0m\n\u001b[0m\u001b[1;32m      4\u001b[0m \u001b[0;34m\u001b[0m\u001b[0m\n\u001b[1;32m      5\u001b[0m \u001b[0mlist1\u001b[0m\u001b[0;34m=\u001b[0m\u001b[0;34m[\u001b[0m\u001b[0;36m10\u001b[0m\u001b[0;34m,\u001b[0m\u001b[0;36m20\u001b[0m\u001b[0;34m,\u001b[0m\u001b[0;36m30\u001b[0m\u001b[0;34m,\u001b[0m\u001b[0;36m40\u001b[0m\u001b[0;34m]\u001b[0m\u001b[0;34m\u001b[0m\u001b[0;34m\u001b[0m\u001b[0m\n",
      "\u001b[0;31mNameError\u001b[0m: name 'str1' is not defined"
     ]
    }
   ],
   "source": [
    "str1='asdfbsdf'\n",
    "del str1\n",
    "print(str1)"
   ]
  },
  {
   "cell_type": "code",
   "execution_count": 30,
   "id": "dd104603",
   "metadata": {},
   "outputs": [
    {
     "name": "stdout",
     "output_type": "stream",
     "text": [
      "[10, 20, 40]\n"
     ]
    }
   ],
   "source": [
    "list1=[10,20,30,40]\n",
    "del list1[2]\n",
    "print(list1)"
   ]
  },
  {
   "cell_type": "code",
   "execution_count": 32,
   "id": "8092c1f7",
   "metadata": {},
   "outputs": [
    {
     "ename": "TypeError",
     "evalue": "'tuple' object doesn't support item deletion",
     "output_type": "error",
     "traceback": [
      "\u001b[0;31m---------------------------------------------------------------------------\u001b[0m",
      "\u001b[0;31mTypeError\u001b[0m                                 Traceback (most recent call last)",
      "\u001b[0;32m/var/folders/n0/rr0bk9yn2d156tv_qkmj0d_m0000gn/T/ipykernel_13456/1634746555.py\u001b[0m in \u001b[0;36m<module>\u001b[0;34m\u001b[0m\n\u001b[1;32m      1\u001b[0m \u001b[0mt1\u001b[0m\u001b[0;34m=\u001b[0m\u001b[0;34m(\u001b[0m\u001b[0;36m100\u001b[0m\u001b[0;34m,\u001b[0m\u001b[0;36m200\u001b[0m\u001b[0;34m,\u001b[0m\u001b[0;36m300\u001b[0m\u001b[0;34m,\u001b[0m\u001b[0;36m400\u001b[0m\u001b[0;34m)\u001b[0m\u001b[0;34m\u001b[0m\u001b[0;34m\u001b[0m\u001b[0m\n\u001b[0;32m----> 2\u001b[0;31m \u001b[0;32mdel\u001b[0m \u001b[0mt1\u001b[0m\u001b[0;34m[\u001b[0m\u001b[0;36m2\u001b[0m\u001b[0;34m]\u001b[0m\u001b[0;34m\u001b[0m\u001b[0;34m\u001b[0m\u001b[0m\n\u001b[0m\u001b[1;32m      3\u001b[0m \u001b[0mprint\u001b[0m\u001b[0;34m(\u001b[0m\u001b[0mt1\u001b[0m\u001b[0;34m)\u001b[0m\u001b[0;34m\u001b[0m\u001b[0;34m\u001b[0m\u001b[0m\n",
      "\u001b[0;31mTypeError\u001b[0m: 'tuple' object doesn't support item deletion"
     ]
    }
   ],
   "source": [
    "t1=(100,200,300,400)\n",
    "del t1[2]\n",
    "print(t1)"
   ]
  },
  {
   "cell_type": "code",
   "execution_count": 33,
   "id": "dde9a9d9",
   "metadata": {},
   "outputs": [
    {
     "name": "stdout",
     "output_type": "stream",
     "text": [
      "{'name': 'Tom'}\n"
     ]
    }
   ],
   "source": [
    "dict1={'name':'Tom','age':30}\n",
    "del dict1['age']\n",
    "print(dict1)"
   ]
  },
  {
   "cell_type": "markdown",
   "id": "9e7e09ea",
   "metadata": {},
   "source": [
    "### max( ) and min( )"
   ]
  },
  {
   "cell_type": "code",
   "execution_count": 35,
   "id": "23cd6a42",
   "metadata": {},
   "outputs": [
    {
     "data": {
      "text/plain": [
       "10"
      ]
     },
     "execution_count": 35,
     "metadata": {},
     "output_type": "execute_result"
    }
   ],
   "source": [
    "str1='abdfcds'\n",
    "list1=[10,20,30,40,50,60]\n",
    "\n",
    "max(str1)\n",
    "min(str1)\n",
    "\n",
    "max(list1)\n",
    "min(list1)"
   ]
  },
  {
   "cell_type": "markdown",
   "id": "6d2696d9",
   "metadata": {},
   "source": [
    "### range (start, end, step)\n",
    "\n",
    "end does not included"
   ]
  },
  {
   "cell_type": "code",
   "execution_count": 37,
   "id": "3cbbfb98",
   "metadata": {},
   "outputs": [
    {
     "name": "stdout",
     "output_type": "stream",
     "text": [
      "1\n",
      "2\n",
      "3\n",
      "4\n",
      "5\n",
      "6\n",
      "7\n",
      "8\n",
      "9\n"
     ]
    }
   ],
   "source": [
    "for i in range(1,10,1):\n",
    "    print(i)"
   ]
  },
  {
   "cell_type": "code",
   "execution_count": 38,
   "id": "fbd9d5c5",
   "metadata": {},
   "outputs": [
    {
     "name": "stdout",
     "output_type": "stream",
     "text": [
      "1\n",
      "3\n",
      "5\n",
      "7\n",
      "9\n"
     ]
    }
   ],
   "source": [
    "for i in range(1,10,2):\n",
    "    print(i)"
   ]
  },
  {
   "cell_type": "code",
   "execution_count": 39,
   "id": "82dc7a1f",
   "metadata": {},
   "outputs": [
    {
     "name": "stdout",
     "output_type": "stream",
     "text": [
      "0\n",
      "1\n",
      "2\n",
      "3\n",
      "4\n",
      "5\n",
      "6\n",
      "7\n",
      "8\n",
      "9\n"
     ]
    }
   ],
   "source": [
    "for i in range(10):\n",
    "    print(i)"
   ]
  },
  {
   "cell_type": "markdown",
   "id": "9c8cc140",
   "metadata": {},
   "source": [
    "### enumerate( )"
   ]
  },
  {
   "cell_type": "code",
   "execution_count": 42,
   "id": "f745c72c",
   "metadata": {},
   "outputs": [
    {
     "name": "stdout",
     "output_type": "stream",
     "text": [
      "(0, 'a')\n",
      "(1, 'b')\n",
      "(2, 'c')\n",
      "(3, 'd')\n",
      "(4, 'e')\n"
     ]
    }
   ],
   "source": [
    "list1=['a','b','c','d','e']\n",
    "for i in enumerate(list1):\n",
    "     print(i)\n",
    "        # output is a tuple, index + value"
   ]
  },
  {
   "cell_type": "code",
   "execution_count": 45,
   "id": "92cb01a5",
   "metadata": {},
   "outputs": [
    {
     "name": "stdout",
     "output_type": "stream",
     "text": [
      "(1, 'a')\n",
      "(2, 'b')\n",
      "(3, 'c')\n",
      "(4, 'd')\n",
      "(5, 'e')\n"
     ]
    }
   ],
   "source": [
    "list1=['a','b','c','d','e']\n",
    "for i in enumerate(list1,start=1):\n",
    "     print(i)\n",
    "        # we only change the index"
   ]
  },
  {
   "cell_type": "markdown",
   "id": "9ccc82db",
   "metadata": {},
   "source": [
    "### change data type"
   ]
  },
  {
   "cell_type": "markdown",
   "id": "e6ac6b46",
   "metadata": {},
   "source": [
    "### tuple( )"
   ]
  },
  {
   "cell_type": "code",
   "execution_count": 50,
   "id": "a372483b",
   "metadata": {},
   "outputs": [
    {
     "name": "stdout",
     "output_type": "stream",
     "text": [
      "(10, 20, 30, 40, 50)\n",
      "(400, 100, 500, 200, 300)\n"
     ]
    }
   ],
   "source": [
    "list1=[10,20,30,40,50]\n",
    "s1={100,200,300,400,500}\n",
    "t1=('a','b','c','d','e')\n",
    "\n",
    "print(tuple(list1))\n",
    "print(tuple(s1))"
   ]
  },
  {
   "cell_type": "markdown",
   "id": "5f5e6bfb",
   "metadata": {},
   "source": [
    "### list( )"
   ]
  },
  {
   "cell_type": "code",
   "execution_count": 52,
   "id": "77160e56",
   "metadata": {},
   "outputs": [
    {
     "ename": "TypeError",
     "evalue": "'list' object is not callable",
     "output_type": "error",
     "traceback": [
      "\u001b[0;31m---------------------------------------------------------------------------\u001b[0m",
      "\u001b[0;31mTypeError\u001b[0m                                 Traceback (most recent call last)",
      "\u001b[0;32m/var/folders/n0/rr0bk9yn2d156tv_qkmj0d_m0000gn/T/ipykernel_13456/2808692200.py\u001b[0m in \u001b[0;36m<module>\u001b[0;34m\u001b[0m\n\u001b[1;32m      3\u001b[0m \u001b[0mt1\u001b[0m\u001b[0;34m=\u001b[0m\u001b[0;34m(\u001b[0m\u001b[0;34m'a'\u001b[0m\u001b[0;34m,\u001b[0m\u001b[0;34m'b'\u001b[0m\u001b[0;34m,\u001b[0m\u001b[0;34m'c'\u001b[0m\u001b[0;34m,\u001b[0m\u001b[0;34m'd'\u001b[0m\u001b[0;34m,\u001b[0m\u001b[0;34m'e'\u001b[0m\u001b[0;34m)\u001b[0m\u001b[0;34m\u001b[0m\u001b[0;34m\u001b[0m\u001b[0m\n\u001b[1;32m      4\u001b[0m \u001b[0;34m\u001b[0m\u001b[0m\n\u001b[0;32m----> 5\u001b[0;31m \u001b[0mprint\u001b[0m\u001b[0;34m(\u001b[0m\u001b[0mlist\u001b[0m\u001b[0;34m(\u001b[0m\u001b[0ms1\u001b[0m\u001b[0;34m)\u001b[0m\u001b[0;34m)\u001b[0m\u001b[0;34m\u001b[0m\u001b[0;34m\u001b[0m\u001b[0m\n\u001b[0m\u001b[1;32m      6\u001b[0m \u001b[0mprint\u001b[0m\u001b[0;34m(\u001b[0m\u001b[0mlist\u001b[0m\u001b[0;34m(\u001b[0m\u001b[0mt1\u001b[0m\u001b[0;34m)\u001b[0m\u001b[0;34m)\u001b[0m\u001b[0;34m\u001b[0m\u001b[0;34m\u001b[0m\u001b[0m\n",
      "\u001b[0;31mTypeError\u001b[0m: 'list' object is not callable"
     ]
    }
   ],
   "source": [
    "list1=[10,20,30,40,50]\n",
    "s1={100,200,300,400,500}\n",
    "t1=('a','b','c','d','e')\n",
    "\n",
    "print(list(s1))\n",
    "print(list(t1))"
   ]
  },
  {
   "cell_type": "markdown",
   "id": "49267f83",
   "metadata": {},
   "source": [
    "### set( )"
   ]
  },
  {
   "cell_type": "code",
   "execution_count": 55,
   "id": "68983672",
   "metadata": {},
   "outputs": [
    {
     "name": "stdout",
     "output_type": "stream",
     "text": [
      "{40, 10, 50, 20, 30}\n",
      "{'d', 'b', 'e', 'a', 'c'}\n"
     ]
    }
   ],
   "source": [
    "list1=[10,20,30,40,40,40,50]\n",
    "s1={100,200,300,400,500}\n",
    "t1=('a','b','c','d','e')\n",
    "\n",
    "print(set(list1))\n",
    "print(set(t1))"
   ]
  }
 ],
 "metadata": {
  "kernelspec": {
   "display_name": "Python 3 (ipykernel)",
   "language": "python",
   "name": "python3"
  },
  "language_info": {
   "codemirror_mode": {
    "name": "ipython",
    "version": 3
   },
   "file_extension": ".py",
   "mimetype": "text/x-python",
   "name": "python",
   "nbconvert_exporter": "python",
   "pygments_lexer": "ipython3",
   "version": "3.9.7"
  }
 },
 "nbformat": 4,
 "nbformat_minor": 5
}
