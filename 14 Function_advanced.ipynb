{
 "cells": [
  {
   "cell_type": "code",
   "execution_count": 3,
   "id": "f37c8b91",
   "metadata": {},
   "outputs": [
    {
     "name": "stdout",
     "output_type": "stream",
     "text": [
      "--------------------\n",
      "please select ----\n",
      "1, new userid\n",
      "2, delete user\n",
      "3,alter user\n",
      "--------------------\n",
      "please input: 1\n",
      "new user\n"
     ]
    }
   ],
   "source": [
    "def info_print():\n",
    "    print('-' * 20)\n",
    "    print('please select ----') \n",
    "    print('1, new userid')\n",
    "    print('2, delete user')\n",
    "    print('3,alter user')\n",
    "    print('4, check the user information')\n",
    "    print('-' * 20)\n",
    "\n",
    "info_print()\n",
    "\n",
    "user_num = int(input('please input: '))\n",
    "\n",
    "if user_num==1:\n",
    "    print('new user')\n",
    "elif user_num == 2:\n",
    "    print('delete')\n",
    "elif user_num == 3:\n",
    "    print_num==3\n",
    "    print('alter')"
   ]
  },
  {
   "cell_type": "code",
   "execution_count": null,
   "id": "7cb5838b",
   "metadata": {},
   "outputs": [],
   "source": [
    "def info_print():\n",
    "    print('-' * 20)\n",
    "    print('please select ----') \n",
    "    print('1, new userid')\n",
    "    print('2, delete user')\n",
    "    print('3,alter user')\n",
    "    print('4, check the user information')\n",
    "    print('-' * 20)\n",
    "\n",
    "while True: \n",
    "    info_print()\n",
    "\n",
    "    user_num = int(input('please input: '))\n",
    "\n",
    "    if user_num==1:\n",
    "        print('new user')\n",
    "    elif user_num == 2:\n",
    "        print('delete')\n",
    "    elif user_num == 3:\n",
    "        print('alter')\n",
    "    else:\n",
    "        print('Error Message')"
   ]
  },
  {
   "cell_type": "markdown",
   "id": "1c1b1bf6",
   "metadata": {},
   "source": [
    "## add new student information"
   ]
  },
  {
   "cell_type": "code",
   "execution_count": null,
   "id": "7f6eca35",
   "metadata": {},
   "outputs": [],
   "source": [
    "def info_print():\n",
    "    print('-' * 20)\n",
    "    print('please select ----') \n",
    "    print('1, new userid')\n",
    "    print('2, delete user')\n",
    "    print('3,alter user')\n",
    "    print('4, check the user information')\n",
    "    print('-' * 20)\n",
    "\n",
    "info=[]    \n",
    "    \n",
    "def add_info():\n",
    "    xxxx # pls refer to next block\n",
    "\n",
    "\n",
    "while True: \n",
    "    info_print()\n",
    "\n",
    "    user_num = int(input('please input: '))\n",
    "\n",
    "    if user_num==1:\n",
    "        add_info() ## call the first defined function\n",
    "    elif user_num == 2:\n",
    "        print('delete')\n",
    "    elif user_num == 3:\n",
    "        print('alter')\n",
    "    elif user_num == 4:\n",
    "        print('check')\n",
    "    else:\n",
    "        print('Error Message')"
   ]
  },
  {
   "cell_type": "code",
   "execution_count": null,
   "id": "9718b4f5",
   "metadata": {},
   "outputs": [],
   "source": [
    "def add_info():\n",
    "    \"\"\" new add user \"\"\"\n",
    "    new_id = input('student id: ')\n",
    "    new_name = input('student name: ')\n",
    "    new_tel = input('student phone number: ')\n",
    "    \n",
    "    global info\n",
    "    \n",
    "    # whether whether exist, if yes: error message. If no, add\n",
    "    for i in info\n",
    "        if new_name == i['name']:\n",
    "        print('exists student!')\n",
    "        return # leave current function (add_info)\n",
    "    \n",
    "    info_dict{} # if not exist, save the information\n",
    "    \n",
    "    info_dict['id'] = new_id \n",
    "    info_dict['name'] = new_name \n",
    "    info_dict['tel'] = new_tel\n",
    "\n",
    "    info.append(info_dict)  \n",
    "    \n",
    "    print(info)\n"
   ]
  },
  {
   "cell_type": "markdown",
   "id": "d65f3cc7",
   "metadata": {},
   "source": [
    "## delete user information"
   ]
  },
  {
   "cell_type": "code",
   "execution_count": null,
   "id": "bb2c79d7",
   "metadata": {},
   "outputs": [],
   "source": [
    "def del_info():\n",
    "    \"\"\"delete the user's information\"\"\"\n",
    "    \n",
    "    del_name = input('please input the user name you want to delte: ')\n",
    "    \n",
    "    global info\n",
    "    \n",
    "    for i in info:\n",
    "        if del_name == i['name'] # target name exisit in the info\n",
    "               info.remove(i)\n",
    "               break # leave the current function\n",
    "    else: \n",
    "        print('NO such user exisit')\n",
    "        \n",
    "    print(info)"
   ]
  },
  {
   "cell_type": "code",
   "execution_count": null,
   "id": "b2275b75",
   "metadata": {},
   "outputs": [],
   "source": [
    "def info_print():\n",
    "    print('-' * 20)\n",
    "    print('please select ----') \n",
    "    print('1, new userid')\n",
    "    print('2, delete user')\n",
    "    print('3,alter user')\n",
    "    print('4, check the user information')\n",
    "    print('-' * 20)\n",
    "\n",
    "info=[]    \n",
    "    \n",
    "def add_info():\n",
    "    xxxx # pls refer to next block\n",
    "\n",
    "\n",
    "while True: \n",
    "    info_print()\n",
    "\n",
    "    user_num = int(input('please input: '))\n",
    "\n",
    "    if user_num==1:\n",
    "        add_info() ## call the generate user function\n",
    "    elif user_num == 2:\n",
    "         del_info() ## call the delete defined function\n",
    "    elif user_num == 3:\n",
    "        print('alter')        \n",
    "    elif user_num == 4:\n",
    "        print('check')\n",
    "    else:\n",
    "        print('Error Message')"
   ]
  },
  {
   "cell_type": "markdown",
   "id": "c44ac352",
   "metadata": {},
   "source": [
    "## change user's information"
   ]
  },
  {
   "cell_type": "code",
   "execution_count": null,
   "id": "200bdb18",
   "metadata": {},
   "outputs": [],
   "source": [
    "def modify_info():\n",
    "    \n",
    "    modify_name = input('input username you want to change: ')\n",
    "    \n",
    "    global info\n",
    "    \n",
    "    for i in info:\n",
    "        if modify_name == i['name']:\n",
    "            i['tel'] = input('please enter new phone number: ')\n",
    "            break\n",
    "        else:\n",
    "            print('NO user exist!!')   \n",
    "        \n",
    "    print(info)\n"
   ]
  },
  {
   "cell_type": "code",
   "execution_count": null,
   "id": "a0b0e2d4",
   "metadata": {},
   "outputs": [],
   "source": [
    "def info_print():\n",
    "    print('-' * 20)\n",
    "    print('please select ----') \n",
    "    print('1, new userid')\n",
    "    print('2, delete user')\n",
    "    print('3,alter user')\n",
    "    print('4, check the user information')\n",
    "    print('-' * 20)\n",
    "\n",
    "info=[]    \n",
    "    \n",
    "def add_info():\n",
    "    xxxx # pls refer to next block\n",
    "\n",
    "\n",
    "while True: \n",
    "    info_print()\n",
    "\n",
    "    user_num = int(input('please input: '))\n",
    "\n",
    "    if user_num==1:\n",
    "        add_info() ## call the generate user function\n",
    "    elif user_num == 2:\n",
    "         del_info() ## call the delete defined function\n",
    "    elif user_num == 3:\n",
    "         modify_info()\n",
    "    \n",
    "    elif user_num == 4:\n",
    "        print('check')\n",
    "    else:\n",
    "        print('Error Message')"
   ]
  },
  {
   "cell_type": "markdown",
   "id": "8481d510",
   "metadata": {},
   "source": [
    "## search"
   ]
  },
  {
   "cell_type": "code",
   "execution_count": null,
   "id": "03e7cd92",
   "metadata": {},
   "outputs": [],
   "source": [
    "def search_info():\n",
    "    \n",
    "    search_name = input('the user name you want to search: ')\n",
    "    \n",
    "    \n",
    "    global info\n",
    "    \n",
    "    for i in info:\n",
    "        if search_name=i['name']:\n",
    "            print(' the information for this user is: ')\n",
    "            print(f'the user id is {i['id']}, the user tel is {i['tel']}'')\n",
    "        else:\n",
    "            print('No such user exist')\n",
    "                  \n",
    "    print(info)"
   ]
  },
  {
   "cell_type": "code",
   "execution_count": null,
   "id": "8580027a",
   "metadata": {},
   "outputs": [],
   "source": [
    "def info_print():\n",
    "    print('-' * 20)\n",
    "    print('please select ----') \n",
    "    print('1, new userid')\n",
    "    print('2, delete user')\n",
    "    print('3,alter user')\n",
    "    print('4, check the user information')\n",
    "    print('-' * 20)\n",
    "\n",
    "info=[]    \n",
    "    \n",
    "def add_info():\n",
    "    xxxx # pls refer to next block\n",
    "\n",
    "\n",
    "while True: \n",
    "    info_print()\n",
    "\n",
    "    user_num = int(input('please input: '))\n",
    "\n",
    "    if user_num==1:\n",
    "        add_info() ## call the generate user function\n",
    "    elif user_num == 2:\n",
    "         del_info() ## call the delete defined function\n",
    "    elif user_num == 3:\n",
    "         modify_info()    \n",
    "    elif user_num == 4:\n",
    "         search_info()\n",
    "    else:\n",
    "        print('Error Message')"
   ]
  },
  {
   "cell_type": "markdown",
   "id": "b75daa29",
   "metadata": {},
   "source": [
    "## print"
   ]
  },
  {
   "cell_type": "code",
   "execution_count": null,
   "id": "8a66a0aa",
   "metadata": {},
   "outputs": [],
   "source": [
    "def print_all()\n",
    "\n",
    "   print(\"id\\t name\\t tel\")\n",
    "    \n",
    "    for i in info:\n",
    "        print(f'{i[id],{i[name]},{i[tel]}}')"
   ]
  },
  {
   "cell_type": "markdown",
   "id": "2be9020e",
   "metadata": {},
   "source": [
    "## exit"
   ]
  },
  {
   "cell_type": "code",
   "execution_count": null,
   "id": "8fc83292",
   "metadata": {},
   "outputs": [],
   "source": [
    "...\n",
    "elseif user_num = input(' Exit? yes or no')\n",
    "       if exit_flag == 'yes'\n",
    "          break"
   ]
  },
  {
   "cell_type": "code",
   "execution_count": null,
   "id": "554df54b",
   "metadata": {},
   "outputs": [],
   "source": [
    "def info_print():\n",
    "    print('-' * 20)\n",
    "    print('please select ----') \n",
    "    print('1, new userid')\n",
    "    print('2, delete user')\n",
    "    print('3,alter user')\n",
    "    print('4, check the user information')\n",
    "    print('-' * 20)\n",
    "\n",
    "info=[]    \n",
    "    \n",
    "def add_info():\n",
    "    xxxx # pls refer to next block\n",
    "\n",
    "\n",
    "while True: \n",
    "    info_print()\n",
    "\n",
    "    user_num = int(input('please input: '))\n",
    "\n",
    "    if user_num==1:\n",
    "        add_info() ## call the generate user function\n",
    "    elif user_num == 2:\n",
    "         del_info() ## call the delete defined function\n",
    "    elif user_num == 3:\n",
    "         modify_info()    \n",
    "    elif user_num == 4:\n",
    "         search_info()\n",
    "    elif user_num = input(' Exit? yes or no')\n",
    "       if exit_flag == 'yes'\n",
    "          break\n",
    "        \n",
    "    else:\n",
    "        print('Error Message')"
   ]
  }
 ],
 "metadata": {
  "kernelspec": {
   "display_name": "Python 3 (ipykernel)",
   "language": "python",
   "name": "python3"
  },
  "language_info": {
   "codemirror_mode": {
    "name": "ipython",
    "version": 3
   },
   "file_extension": ".py",
   "mimetype": "text/x-python",
   "name": "python",
   "nbconvert_exporter": "python",
   "pygments_lexer": "ipython3",
   "version": "3.9.7"
  }
 },
 "nbformat": 4,
 "nbformat_minor": 5
}
