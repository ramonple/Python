{
 "cells": [
  {
   "cell_type": "markdown",
   "id": "6b46a4c8",
   "metadata": {},
   "source": [
    "## Definition:\n",
    "\n",
    "def function_name( variable):\n",
    "\n",
    "    code 1\n",
    "    \n",
    "    code 2\n",
    "    \n",
    "    ......\n",
    "    \n",
    "    \n",
    "call function:\n",
    "\n",
    "function_name(variable)"
   ]
  },
  {
   "cell_type": "code",
   "execution_count": 11,
   "id": "c0e91ef9",
   "metadata": {},
   "outputs": [
    {
     "name": "stdout",
     "output_type": "stream",
     "text": [
      "password correct, hello Niko\n",
      "show account balance\n",
      "deposite\n",
      "withdraw\n",
      "account balance is 1000000000000\n",
      "show account balance\n",
      "deposite\n",
      "withdraw\n",
      "withdraw 2000000 pounds\n",
      "show account balance\n",
      "deposite\n",
      "withdraw\n"
     ]
    }
   ],
   "source": [
    "def select_func():\n",
    "    print('show account balance') \n",
    "    print('deposite')\n",
    "    print('withdraw') \n",
    "\n",
    "print('password correct, hello Niko')\n",
    "select_func()\n",
    "\n",
    "print('account balance is 1000000000000')\n",
    "select_func()\n",
    "\n",
    "print('withdraw 2000000 pounds')\n",
    "select_func()"
   ]
  },
  {
   "cell_type": "code",
   "execution_count": 13,
   "id": "bcd5daeb",
   "metadata": {},
   "outputs": [
    {
     "name": "stdout",
     "output_type": "stream",
     "text": [
      "3\n"
     ]
    }
   ],
   "source": [
    "def add_num1():\n",
    "    result=1+2\n",
    "    print(result)\n",
    "    \n",
    "add_num1()"
   ]
  },
  {
   "cell_type": "code",
   "execution_count": 14,
   "id": "e7d3534b",
   "metadata": {},
   "outputs": [
    {
     "name": "stdout",
     "output_type": "stream",
     "text": [
      "30\n"
     ]
    }
   ],
   "source": [
    "def add_num2(a,b):\n",
    "    result=a+b\n",
    "    print(result)\n",
    "\n",
    "add_num2(10,20)"
   ]
  },
  {
   "cell_type": "code",
   "execution_count": 15,
   "id": "64cfa126",
   "metadata": {},
   "outputs": [
    {
     "name": "stdout",
     "output_type": "stream",
     "text": [
      "candy\n"
     ]
    }
   ],
   "source": [
    "def buy():\n",
    "    return 'candy'\n",
    "\n",
    "goods=buy()\n",
    "print(goods)"
   ]
  },
  {
   "cell_type": "markdown",
   "id": "9c815838",
   "metadata": {},
   "source": [
    "### return:\n",
    "\n",
    "a. return the value after return;\n",
    "\n",
    "b. leave the current function. all coding after return (in this function) will be skipped"
   ]
  },
  {
   "cell_type": "code",
   "execution_count": 20,
   "id": "df6a2832",
   "metadata": {},
   "outputs": [
    {
     "name": "stdout",
     "output_type": "stream",
     "text": [
      "3\n"
     ]
    }
   ],
   "source": [
    "def sum_num(a,b):\n",
    "    return  a + b\n",
    "\n",
    "result = sum_num(1,2)\n",
    "print(result)"
   ]
  },
  {
   "cell_type": "markdown",
   "id": "0e554299",
   "metadata": {},
   "source": [
    "## instructions text"
   ]
  },
  {
   "cell_type": "code",
   "execution_count": 29,
   "id": "e1e91a16",
   "metadata": {},
   "outputs": [
    {
     "name": "stdout",
     "output_type": "stream",
     "text": [
      "18\n",
      "Help on function sum in module __main__:\n",
      "\n",
      "sum(a, b)\n",
      "    calculate the sum of two variables\n",
      "\n"
     ]
    }
   ],
   "source": [
    "def sum(a,b):\n",
    "    \"\"\" calculate the sum of two variables\"\"\"  # must shown in the first line\n",
    "    return a + b\n",
    "\n",
    "result = sum(10,8)\n",
    "print(result)\n",
    "\n",
    "help(sum)"
   ]
  },
  {
   "cell_type": "markdown",
   "id": "c30e0c2f",
   "metadata": {},
   "source": [
    "## NEST"
   ]
  },
  {
   "cell_type": "code",
   "execution_count": 2,
   "id": "6c1e2549",
   "metadata": {},
   "outputs": [
    {
     "name": "stdout",
     "output_type": "stream",
     "text": [
      "------this is test A------\n",
      "------this is test B------\n",
      "this is the processing steps for test B\n",
      "----- test B end----\n",
      "----- test A end----\n"
     ]
    }
   ],
   "source": [
    "def testB():\n",
    "    print('------this is test B------')\n",
    "    print('this is the processing steps for test B')\n",
    "    print('----- test B end----')\n",
    "    \n",
    "def testA():\n",
    "    print('------this is test A------')\n",
    "    testB()\n",
    "    print('----- test A end----')\n",
    "    \n",
    "testA()"
   ]
  },
  {
   "cell_type": "code",
   "execution_count": 3,
   "id": "ff72700b",
   "metadata": {},
   "outputs": [
    {
     "name": "stdout",
     "output_type": "stream",
     "text": [
      "--------------------\n"
     ]
    }
   ],
   "source": [
    "def print_line():\n",
    "    print('-'*20)\n",
    "    \n",
    "print_line()"
   ]
  },
  {
   "cell_type": "code",
   "execution_count": 15,
   "id": "a8231585",
   "metadata": {},
   "outputs": [
    {
     "name": "stdout",
     "output_type": "stream",
     "text": [
      "--------------------\n",
      "--------------------\n",
      "--------------------\n",
      "--------------------\n",
      "--------------------\n"
     ]
    }
   ],
   "source": [
    "def print_line():\n",
    "    print('-' * 20)\n",
    "    \n",
    "def print_lines(num): \n",
    "    i=0\n",
    "    while i < num:\n",
    "            print_line()\n",
    "            i += 1\n",
    "print_lines(5)"
   ]
  },
  {
   "cell_type": "markdown",
   "id": "94e5b4f1",
   "metadata": {},
   "source": [
    "### Calculations"
   ]
  },
  {
   "cell_type": "code",
   "execution_count": 17,
   "id": "3da9624d",
   "metadata": {},
   "outputs": [
    {
     "name": "stdout",
     "output_type": "stream",
     "text": [
      "6\n"
     ]
    }
   ],
   "source": [
    "def sum_num(a,b,c):\n",
    "    return a+b+c\n",
    "\n",
    "result=sum_num(1,2,3)\n",
    "print(result)"
   ]
  },
  {
   "cell_type": "code",
   "execution_count": 20,
   "id": "251d16ee",
   "metadata": {},
   "outputs": [
    {
     "name": "stdout",
     "output_type": "stream",
     "text": [
      "2.0\n"
     ]
    }
   ],
   "source": [
    "def sum_num(a,b,c):\n",
    "    return a+b+c\n",
    "\n",
    "def mean(a,b,c):\n",
    "    sumResult = sum_num(a,b,c)\n",
    "    return sumResult/3\n",
    "\n",
    "result = mean(1,2,3)\n",
    "print(result)"
   ]
  },
  {
   "cell_type": "markdown",
   "id": "b6eb3b24",
   "metadata": {},
   "source": [
    "## Variable Range"
   ]
  },
  {
   "cell_type": "markdown",
   "id": "6e8e2577",
   "metadata": {},
   "source": [
    "### Local variable"
   ]
  },
  {
   "cell_type": "code",
   "execution_count": 22,
   "id": "90da2b61",
   "metadata": {},
   "outputs": [
    {
     "name": "stdout",
     "output_type": "stream",
     "text": [
      "100\n"
     ]
    }
   ],
   "source": [
    "def testA():\n",
    "    a = 100\n",
    "    print(a)\n",
    "    \n",
    "testA()"
   ]
  },
  {
   "cell_type": "code",
   "execution_count": 23,
   "id": "bd7eaeab",
   "metadata": {},
   "outputs": [
    {
     "name": "stdout",
     "output_type": "stream",
     "text": [
      "100\n"
     ]
    },
    {
     "ename": "NameError",
     "evalue": "name 'a' is not defined",
     "output_type": "error",
     "traceback": [
      "\u001b[0;31m---------------------------------------------------------------------------\u001b[0m",
      "\u001b[0;31mNameError\u001b[0m                                 Traceback (most recent call last)",
      "\u001b[0;32m/var/folders/n0/rr0bk9yn2d156tv_qkmj0d_m0000gn/T/ipykernel_8127/1946808324.py\u001b[0m in \u001b[0;36m<module>\u001b[0;34m\u001b[0m\n\u001b[1;32m      4\u001b[0m \u001b[0;34m\u001b[0m\u001b[0m\n\u001b[1;32m      5\u001b[0m \u001b[0mtestA\u001b[0m\u001b[0;34m(\u001b[0m\u001b[0;34m)\u001b[0m\u001b[0;34m\u001b[0m\u001b[0;34m\u001b[0m\u001b[0m\n\u001b[0;32m----> 6\u001b[0;31m \u001b[0mprint\u001b[0m\u001b[0;34m(\u001b[0m\u001b[0ma\u001b[0m\u001b[0;34m)\u001b[0m\u001b[0;34m\u001b[0m\u001b[0;34m\u001b[0m\u001b[0m\n\u001b[0m",
      "\u001b[0;31mNameError\u001b[0m: name 'a' is not defined"
     ]
    }
   ],
   "source": [
    "def testA():\n",
    "    a = 100\n",
    "    print(a)\n",
    "    \n",
    "testA()\n",
    "print(a) \n",
    "# a is only defined in function testA. "
   ]
  },
  {
   "cell_type": "markdown",
   "id": "b7cde105",
   "metadata": {},
   "source": [
    "## global variable"
   ]
  },
  {
   "cell_type": "code",
   "execution_count": 25,
   "id": "aade8ba8",
   "metadata": {},
   "outputs": [
    {
     "name": "stdout",
     "output_type": "stream",
     "text": [
      "100\n",
      "100\n"
     ]
    }
   ],
   "source": [
    "a = 100\n",
    "\n",
    "def testA():\n",
    "    print(a)\n",
    "    \n",
    "def testB():\n",
    "    print(a)\n",
    "\n",
    "testA()\n",
    "testB()"
   ]
  },
  {
   "cell_type": "code",
   "execution_count": 27,
   "id": "1c3591d8",
   "metadata": {},
   "outputs": [
    {
     "name": "stdout",
     "output_type": "stream",
     "text": [
      "100\n",
      "200\n",
      "the global variable a is 100\n"
     ]
    }
   ],
   "source": [
    "a = 100\n",
    "\n",
    "def testA():\n",
    "    print(a)\n",
    "    \n",
    "def testB():\n",
    "    a = 200\n",
    "    print(a)\n",
    "\n",
    "testA()\n",
    "testB()\n",
    "print(f'the global variable a is {a}')"
   ]
  },
  {
   "cell_type": "markdown",
   "id": "fd4c5f30",
   "metadata": {},
   "source": [
    "### how to use function to change the global variable?"
   ]
  },
  {
   "cell_type": "code",
   "execution_count": 29,
   "id": "992d70a6",
   "metadata": {},
   "outputs": [
    {
     "name": "stdout",
     "output_type": "stream",
     "text": [
      "100\n",
      "200\n",
      "the global variable a is 200\n"
     ]
    }
   ],
   "source": [
    "a = 100\n",
    "\n",
    "def testA():\n",
    "    print(a)\n",
    "    \n",
    "def testB():\n",
    "    global a # declare a is the glocal variable\n",
    "    a = 200\n",
    "    print(a)\n",
    "\n",
    "testA()\n",
    "testB()\n",
    "print(f'the global variable a is {a}')"
   ]
  },
  {
   "cell_type": "markdown",
   "id": "3324a140",
   "metadata": {},
   "source": [
    "### return from one function can be applied in another function"
   ]
  },
  {
   "cell_type": "code",
   "execution_count": 31,
   "id": "c4e6c60f",
   "metadata": {},
   "outputs": [
    {
     "name": "stdout",
     "output_type": "stream",
     "text": [
      "50\n"
     ]
    }
   ],
   "source": [
    "def test1():\n",
    "    return 50\n",
    "\n",
    "def test2(num):\n",
    "    print(num)\n",
    "    \n",
    "result = test1()\n",
    "\n",
    "test2(result)"
   ]
  },
  {
   "cell_type": "markdown",
   "id": "6d0f85d4",
   "metadata": {},
   "source": [
    "### several return values from one function"
   ]
  },
  {
   "cell_type": "code",
   "execution_count": 32,
   "id": "f74253a7",
   "metadata": {},
   "outputs": [
    {
     "name": "stdout",
     "output_type": "stream",
     "text": [
      "1\n"
     ]
    }
   ],
   "source": [
    "def return_num():\n",
    "    return 1\n",
    "    return 2 # cannot run \n",
    "result = return_num()\n",
    "print(result)"
   ]
  },
  {
   "cell_type": "code",
   "execution_count": 33,
   "id": "33a6b831",
   "metadata": {},
   "outputs": [
    {
     "name": "stdout",
     "output_type": "stream",
     "text": [
      "(1, 2)\n"
     ]
    }
   ],
   "source": [
    "def return_num():\n",
    "    return 1,2\n",
    "result = return_num()\n",
    "print(result)  # the type will be tuple, but you can change the data fomat"
   ]
  },
  {
   "cell_type": "code",
   "execution_count": 36,
   "id": "6acebd8a",
   "metadata": {},
   "outputs": [
    {
     "name": "stdout",
     "output_type": "stream",
     "text": [
      "{1, 2}\n"
     ]
    }
   ],
   "source": [
    "def return_num():\n",
    "    return {1,2}\n",
    "result = return_num()\n",
    "print(result)"
   ]
  },
  {
   "cell_type": "code",
   "execution_count": 37,
   "id": "7ce33854",
   "metadata": {},
   "outputs": [
    {
     "name": "stdout",
     "output_type": "stream",
     "text": [
      "[1, 2]\n"
     ]
    }
   ],
   "source": [
    "def return_num():\n",
    "    return [1,2]\n",
    "result = return_num()\n",
    "print(result)"
   ]
  },
  {
   "cell_type": "code",
   "execution_count": 40,
   "id": "2f78e345",
   "metadata": {},
   "outputs": [
    {
     "name": "stdout",
     "output_type": "stream",
     "text": [
      "{'x': 50, 'str': 'Tutorialspoint'}\n"
     ]
    }
   ],
   "source": [
    "def return_num():\n",
    "    return {'x': 50, 'str': 'Tutorialspoint'}\n",
    "result = return_num()\n",
    "print(result)"
   ]
  },
  {
   "cell_type": "markdown",
   "id": "946a68a8",
   "metadata": {},
   "source": [
    "### variable in function"
   ]
  },
  {
   "cell_type": "markdown",
   "id": "1dab6aa0",
   "metadata": {},
   "source": [
    "### location parameter"
   ]
  },
  {
   "cell_type": "code",
   "execution_count": 43,
   "id": "9031b627",
   "metadata": {},
   "outputs": [
    {
     "name": "stdout",
     "output_type": "stream",
     "text": [
      "your name is Tom, age is 20, gender is Male\n"
     ]
    }
   ],
   "source": [
    "def user_info(name, age, gender):\n",
    "    print(f'your name is {name}, age is {age}, gender is {gender}')\n",
    "          \n",
    "user_info('Tom',20,\"Male\")\n",
    "# for the location parameter, the sequence is important, must be the same as the one defined by the function"
   ]
  },
  {
   "cell_type": "markdown",
   "id": "41c51b63",
   "metadata": {},
   "source": [
    "### keyword parameter"
   ]
  },
  {
   "cell_type": "code",
   "execution_count": 44,
   "id": "f8df0020",
   "metadata": {},
   "outputs": [
    {
     "name": "stdout",
     "output_type": "stream",
     "text": [
      "your name is Rose, age is 20, gender is Female\n"
     ]
    }
   ],
   "source": [
    "def user_info(name, age, gender):\n",
    "    print(f'your name is {name}, age is {age}, gender is {gender}')\n",
    "    \n",
    "user_info (age=20,gender=\"Female\",name='Rose')\n",
    "\n",
    "# if there exists location variable, it must be put infront of the keyword variables"
   ]
  },
  {
   "cell_type": "markdown",
   "id": "8ca51f82",
   "metadata": {},
   "source": [
    "###  default parameter"
   ]
  },
  {
   "cell_type": "code",
   "execution_count": 50,
   "id": "5a172b2e",
   "metadata": {},
   "outputs": [
    {
     "name": "stdout",
     "output_type": "stream",
     "text": [
      "your name is TOM, your age is 20, your are a Male\n",
      "your name is Rose, your age is 18, your are a Female\n"
     ]
    }
   ],
   "source": [
    "def user_info(name,age,gender = \"Male\"):\n",
    "    print(f'your name is {name}, your age is {age}, your are a {gender}')\n",
    "    \n",
    "user_info('TOM', 20)\n",
    "user_info('Rose', 18, 'Female')"
   ]
  },
  {
   "cell_type": "markdown",
   "id": "0f84e2cb",
   "metadata": {},
   "source": [
    "### Indefinite length parameter"
   ]
  },
  {
   "cell_type": "markdown",
   "id": "f1a79eb8",
   "metadata": {},
   "source": [
    "### packing location"
   ]
  },
  {
   "cell_type": "code",
   "execution_count": 8,
   "id": "5d1d0175",
   "metadata": {},
   "outputs": [
    {
     "name": "stdout",
     "output_type": "stream",
     "text": [
      "('Tom',)\n",
      "('Tom', 18)\n",
      "('Tom', 18, 'man')\n",
      "()\n"
     ]
    }
   ],
   "source": [
    "def user_info(*args): # arguments, can be changed to others, must start with *\n",
    "    print(args)\n",
    "\n",
    "user_info('Tom')\n",
    "user_info('Tom',18)\n",
    "user_info('Tom',18,'man')\n",
    "user_info()"
   ]
  },
  {
   "cell_type": "markdown",
   "id": "6ed438fb",
   "metadata": {},
   "source": [
    "### packing keyword"
   ]
  },
  {
   "cell_type": "code",
   "execution_count": 11,
   "id": "5ac1191e",
   "metadata": {},
   "outputs": [
    {
     "name": "stdout",
     "output_type": "stream",
     "text": [
      "{'name': 'Tom', 'age': 18}\n",
      "{'name': 'Tom', 'age': 18, 'gender': 'M'}\n"
     ]
    }
   ],
   "source": [
    "def user_info(**kwargs): #keyword arguements\n",
    "    print(kwargs)\n",
    "    \n",
    "user_info(name='Tom',age=18)\n",
    "user_info(name='Tom',age=18,gender='M')"
   ]
  },
  {
   "cell_type": "markdown",
   "id": "b22db342",
   "metadata": {},
   "source": [
    "## Unpack "
   ]
  },
  {
   "cell_type": "markdown",
   "id": "e36dabc1",
   "metadata": {},
   "source": [
    "### unpack tuple"
   ]
  },
  {
   "cell_type": "code",
   "execution_count": 12,
   "id": "771b6cf1",
   "metadata": {},
   "outputs": [
    {
     "name": "stdout",
     "output_type": "stream",
     "text": [
      "100\n",
      "200\n"
     ]
    }
   ],
   "source": [
    "def return_num():\n",
    "    return 100,200\n",
    "\n",
    "num1,num2 = return_num()\n",
    "print(num1)\n",
    "print(num2)"
   ]
  },
  {
   "cell_type": "markdown",
   "id": "24d5eddb",
   "metadata": {},
   "source": [
    "### unpack dictionary"
   ]
  },
  {
   "cell_type": "code",
   "execution_count": 16,
   "id": "ec6a0aa9",
   "metadata": {},
   "outputs": [
    {
     "name": "stdout",
     "output_type": "stream",
     "text": [
      "name\n",
      "age\n",
      "TOM\n",
      "18\n"
     ]
    }
   ],
   "source": [
    "dict1 = {'name': 'TOM', 'age': 18}\n",
    "a,b=dict1\n",
    "\n",
    "print(a)\n",
    "print(b)\n",
    "\n",
    "print(dict1[a])\n",
    "print(dict1[b])"
   ]
  },
  {
   "cell_type": "markdown",
   "id": "e4ba0323",
   "metadata": {},
   "source": [
    "### Swap variable values\n",
    "\n",
    "a=10, b=20, we want to change the values of a and b"
   ]
  },
  {
   "cell_type": "code",
   "execution_count": 17,
   "id": "8772d201",
   "metadata": {},
   "outputs": [
    {
     "name": "stdout",
     "output_type": "stream",
     "text": [
      "2\n",
      "1\n"
     ]
    }
   ],
   "source": [
    "a, b = 1, 2\n",
    "a, b = b, a\n",
    "print(a) \n",
    "print(b)  "
   ]
  },
  {
   "cell_type": "markdown",
   "id": "7a49a1f4",
   "metadata": {},
   "source": [
    "### reference"
   ]
  },
  {
   "cell_type": "markdown",
   "id": "d4f4a538",
   "metadata": {},
   "source": [
    "### 1. unchangeable data type"
   ]
  },
  {
   "cell_type": "code",
   "execution_count": 24,
   "id": "8aa85e92",
   "metadata": {},
   "outputs": [
    {
     "name": "stdout",
     "output_type": "stream",
     "text": [
      "1\n",
      "140197295692080\n",
      "140197295692080\n",
      "1\n",
      "140197295692112\n",
      "140197295692080\n"
     ]
    }
   ],
   "source": [
    "a=1\n",
    "b=a\n",
    "print(b)  \n",
    "print(id(a))  \n",
    "print(id(b))  \n",
    "a=2\n",
    "print(b) \n",
    "print(id(a))\n",
    "print(id(b)) # int is unchangeable"
   ]
  },
  {
   "cell_type": "markdown",
   "id": "5cfa48ad",
   "metadata": {},
   "source": [
    "### 2. changeable data type"
   ]
  },
  {
   "cell_type": "code",
   "execution_count": 20,
   "id": "64e8b9d0",
   "metadata": {},
   "outputs": [
    {
     "name": "stdout",
     "output_type": "stream",
     "text": [
      "140197418488128\n",
      "140197418488128\n",
      "[10, 20, 30]\n",
      "140197418488128\n",
      "140197418488128\n"
     ]
    }
   ],
   "source": [
    "aa = [10,20]\n",
    "bb=aa\n",
    "\n",
    "print(id(aa))\n",
    "print(id(bb))\n",
    "\n",
    "aa.append(30)\n",
    "print(bb)\n",
    "\n",
    "print(id(aa))\n",
    "print(id(bb))  # list is changeable"
   ]
  },
  {
   "cell_type": "markdown",
   "id": "f9a66fe5",
   "metadata": {},
   "source": [
    "### References are taken as arguments"
   ]
  },
  {
   "cell_type": "code",
   "execution_count": 28,
   "id": "73dfb3d5",
   "metadata": {},
   "outputs": [
    {
     "name": "stdout",
     "output_type": "stream",
     "text": [
      "100\n",
      "140197295883728\n",
      "200\n",
      "140197295886992\n",
      "------------------\n",
      "[11, 22]\n",
      "140197418413568\n",
      "[11, 22, 11, 22]\n",
      "140197418413568\n"
     ]
    }
   ],
   "source": [
    "def test1(a):\n",
    "    print(a)\n",
    "    print(id(a))\n",
    "    a += a\n",
    "    print(a)\n",
    "    print(id(a))\n",
    "\n",
    "    # int has different ids before and after calculations\n",
    "b=100\n",
    "test1(b)\n",
    "print('------------------')\n",
    "   # list has the same id before and after calculations\n",
    "c=[11,22]\n",
    "test1(c)"
   ]
  },
  {
   "cell_type": "markdown",
   "id": "1007f877",
   "metadata": {},
   "source": [
    "## Mutable and immutable types"
   ]
  },
  {
   "cell_type": "markdown",
   "id": "9b528f56",
   "metadata": {},
   "source": [
    "## Mutable\n",
    "- List\n",
    "- Dictionary\n",
    "- Set\n",
    "\n",
    "\n",
    "## Immutable\n",
    "- Integer\n",
    "- float\n",
    "- string\n",
    "- tuple\n"
   ]
  }
 ],
 "metadata": {
  "kernelspec": {
   "display_name": "Python 3 (ipykernel)",
   "language": "python",
   "name": "python3"
  },
  "language_info": {
   "codemirror_mode": {
    "name": "ipython",
    "version": 3
   },
   "file_extension": ".py",
   "mimetype": "text/x-python",
   "name": "python",
   "nbconvert_exporter": "python",
   "pygments_lexer": "ipython3",
   "version": "3.9.7"
  }
 },
 "nbformat": 4,
 "nbformat_minor": 5
}
