{
 "cells": [
  {
   "cell_type": "markdown",
   "id": "a83ec4cd",
   "metadata": {},
   "source": [
    "# Comprehensions\n",
    "\n",
    "### Objective: simplify the coding\n",
    "\n",
    "## list\n",
    "\n",
    "## dictionary\n",
    "\n",
    "## set"
   ]
  },
  {
   "cell_type": "markdown",
   "id": "6e7ff96b",
   "metadata": {},
   "source": [
    "## LIST"
   ]
  },
  {
   "cell_type": "code",
   "execution_count": 15,
   "id": "0935e873",
   "metadata": {},
   "outputs": [
    {
     "name": "stdout",
     "output_type": "stream",
     "text": [
      "[0, 1, 2, 3, 4, 5, 6, 7, 8, 9, 10]\n"
     ]
    }
   ],
   "source": [
    "# generate list 0 - 10\n",
    "list1=[]\n",
    "\n",
    "i = 0\n",
    "\n",
    "while i <= 10:\n",
    "      list1.append(i)\n",
    "      i+=1\n",
    "    \n",
    "print(list1)"
   ]
  },
  {
   "cell_type": "code",
   "execution_count": 16,
   "id": "4ec4ff7d",
   "metadata": {},
   "outputs": [
    {
     "name": "stdout",
     "output_type": "stream",
     "text": [
      "[0, 1, 2, 3, 4, 5, 6, 7, 8, 9, 10]\n"
     ]
    }
   ],
   "source": [
    "list1=[]\n",
    " \n",
    "    \n",
    "for i in range(11):\n",
    "    list1.append(i)\n",
    "    \n",
    "print(list1)"
   ]
  },
  {
   "cell_type": "code",
   "execution_count": 17,
   "id": "2c442364",
   "metadata": {},
   "outputs": [
    {
     "name": "stdout",
     "output_type": "stream",
     "text": [
      "[0, 1, 2, 3, 4, 5, 6, 7, 8, 9, 10]\n"
     ]
    }
   ],
   "source": [
    "list1=[ i for i in range(11)]\n",
    "print(list1)\n",
    "# because this is list comprehension, we need to use []"
   ]
  },
  {
   "cell_type": "code",
   "execution_count": 18,
   "id": "7db76062",
   "metadata": {},
   "outputs": [
    {
     "name": "stdout",
     "output_type": "stream",
     "text": [
      "[0, 2, 4, 6, 8]\n"
     ]
    }
   ],
   "source": [
    "list1=[i for i in range(0,10,2)]\n",
    "print(list1)"
   ]
  },
  {
   "cell_type": "markdown",
   "id": "7d41a991",
   "metadata": {},
   "source": [
    "### add if in List comprehension"
   ]
  },
  {
   "cell_type": "code",
   "execution_count": 19,
   "id": "bd5b3fe0",
   "metadata": {},
   "outputs": [
    {
     "name": "stdout",
     "output_type": "stream",
     "text": [
      "[0, 2, 4, 6, 8]\n"
     ]
    }
   ],
   "source": [
    "list1 = [i for i in range(10) if i%2 == 0]\n",
    "print(list1)"
   ]
  },
  {
   "cell_type": "markdown",
   "id": "c5f51860",
   "metadata": {},
   "source": [
    "### several for loops\n",
    "\n",
    "Require: [(1,0),(1,1),(1,2),(2,0),(2,1),(2,2)]"
   ]
  },
  {
   "cell_type": "code",
   "execution_count": 20,
   "id": "42daa263",
   "metadata": {},
   "outputs": [
    {
     "name": "stdout",
     "output_type": "stream",
     "text": [
      "[(1, 0), (1, 1), (1, 2), (2, 0), (2, 1), (2, 2)]\n"
     ]
    }
   ],
   "source": [
    "list1 = [(i,j) for i in range(1,3) for j in range(3)]\n",
    "print(list1)"
   ]
  },
  {
   "cell_type": "markdown",
   "id": "7da8e330",
   "metadata": {},
   "source": [
    "## Dictionary\n",
    "\n",
    "Objective: join two lists into one dictionary"
   ]
  },
  {
   "cell_type": "code",
   "execution_count": 24,
   "id": "a2e98ec9",
   "metadata": {},
   "outputs": [
    {
     "name": "stdout",
     "output_type": "stream",
     "text": [
      "{1: 1, 2: 4, 3: 9, 4: 16}\n"
     ]
    }
   ],
   "source": [
    "dict1={i:i**2 for i in range(1,5)}\n",
    "print(dict1) \n",
    "# we want distionary, thus it should be {}"
   ]
  },
  {
   "cell_type": "code",
   "execution_count": 27,
   "id": "cde48d84",
   "metadata": {},
   "outputs": [
    {
     "name": "stdout",
     "output_type": "stream",
     "text": [
      "{'name': 'Tom', 'age': 20, 'gender': 'man'}\n"
     ]
    }
   ],
   "source": [
    "list1=['name','age','gender']  \n",
    "list2=['Tom',20,'man']\n",
    "\n",
    "dict1={list1[i]:list2[i] for i in range(len(list1))}\n",
    "print(dict1)\n",
    "\n",
    "# these two lists should have same length\n",
    "# if two lists do not the same length, we should use len(shorter_list)"
   ]
  },
  {
   "cell_type": "markdown",
   "id": "a5628f25",
   "metadata": {},
   "source": [
    "### extract from dictionary"
   ]
  },
  {
   "cell_type": "code",
   "execution_count": 28,
   "id": "d5b9ec23",
   "metadata": {},
   "outputs": [
    {
     "name": "stdout",
     "output_type": "stream",
     "text": [
      "{'MBP': 268, 'DELL': 201}\n"
     ]
    }
   ],
   "source": [
    "counts = {'MBP': 268, 'HP': 125, 'DELL': 201, 'Lenovo': 199, 'acer': 99}\n",
    "# require the one with sales over 200\n",
    "\n",
    "count1={key:value for key, value in counts.items() if value >= 200}\n",
    "print(count1)"
   ]
  },
  {
   "cell_type": "markdown",
   "id": "45977c36",
   "metadata": {},
   "source": [
    "### Set"
   ]
  },
  {
   "cell_type": "code",
   "execution_count": 30,
   "id": "e48e9051",
   "metadata": {},
   "outputs": [
    {
     "name": "stdout",
     "output_type": "stream",
     "text": [
      "{1, 4}\n"
     ]
    }
   ],
   "source": [
    "list1=[1,1,2]\n",
    "# require: output the square of the data in list1\n",
    "\n",
    "set1 = {i ** 2 for i in list1}\n",
    "print(set1) "
   ]
  },
  {
   "cell_type": "markdown",
   "id": "8ceebf1a",
   "metadata": {},
   "source": [
    "## Summary"
   ]
  },
  {
   "cell_type": "markdown",
   "id": "cc6f6065",
   "metadata": {},
   "source": [
    "LIST:\n",
    "\n",
    "[xx for xx in range()]\n",
    "\n",
    "\n",
    "DICTIONARY:\n",
    "\n",
    "{xx1:xx2 for ...in...}\n",
    "\n",
    "\n",
    "SET:\n",
    "\n",
    "{xx for xx in ...}"
   ]
  }
 ],
 "metadata": {
  "kernelspec": {
   "display_name": "Python 3 (ipykernel)",
   "language": "python",
   "name": "python3"
  },
  "language_info": {
   "codemirror_mode": {
    "name": "ipython",
    "version": 3
   },
   "file_extension": ".py",
   "mimetype": "text/x-python",
   "name": "python",
   "nbconvert_exporter": "python",
   "pygments_lexer": "ipython3",
   "version": "3.9.7"
  }
 },
 "nbformat": 4,
 "nbformat_minor": 5
}
